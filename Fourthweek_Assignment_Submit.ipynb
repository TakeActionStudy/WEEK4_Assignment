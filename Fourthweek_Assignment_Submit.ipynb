{
 "cells": [
  {
   "cell_type": "markdown",
   "id": "53ddb9cb",
   "metadata": {},
   "source": [
    "# 1. 앙상블 학습의 대표적인 학습 방법 3가지와 그 방법들 사이의 차이점을 서술하시오.\n",
    "(1) 보팅: 여러개의 분류기가 투표를 통해 최종 예측 결과를 결정하는 방식, 선형회귀, K 최근접 이웃, 서포트 벡터 머신 이라는 3개의 ML 알고리즘이 겉운 데이터 세트에 대해 학습하고 예측한 결과를 가지고 보팅을 통해 최종 예측 결과를 선정하는 방식\n",
    "\n",
    "(2) 배깅: 여러개의 분류기가 투표를 통해 최종 예측 결과를 결정하는 방식, 단일 ML 알고리즘(결정 트리)로 여러 분류기가 학습으로 개별 예측을 한다.\n",
    "- 부트스트래핑 분할 방식: 개별 Classifier에게 데이터를 샘플링해서 추출하는 방식\n",
    "- 배깅 앙상블 방식: 개별 분류기가 부트스트래핑 방식으로 샘플링된 데이터 세트에 대해서 학습을 통해 개별적인 예측을 수행한 결과를 보팅을 통해서 최종 예측 결과를 선정하는 방식\n",
    "- 중첩 허용\n",
    "\n",
    "(3) 부스팅: 여러 개의 분류기가 순차적으로 학습을 수행하되, 앞에서 학습한 분류기가 예측이 틀린 데이터에 대해서는 올바르게 예측할 수 있도록 다음 분류기에게는 가중치를 부여하면서 학습과 예측을 진행하는 것"
   ]
  },
  {
   "cell_type": "markdown",
   "id": "9c89d013",
   "metadata": {},
   "source": [
    "# 2. 보팅(Voting)의 유형 두가지와 그 들의 차이점을 서술하시오.\n",
    "(1) 하드 보팅: 다수결 원칙과 비슷, 예측한 결괏값들 중 다수의 분류기가 결정한 예측값을 최종 보팅 결괏값으로 선정하는 것\n",
    "\n",
    "(2) 소프트 보팅: 분류기들의 레이블 값 결정 확률을 모두 더하고 이를 평균해서 이들 중 확률이 가장 높은 레이블 값을 최종 보팅 결괏값으로 선정하는 것"
   ]
  },
  {
   "cell_type": "markdown",
   "id": "e6516e9f",
   "metadata": {},
   "source": [
    "# 3. 랜덤포레스트(Random Forest)의 결과 에측 과정을 간략하게 설명하시오.\n",
    "보깅의 대표적인 알고리즘\n",
    "여러 개의 결정 트리 분류기가 전체 데이터에서 배깅 방식으로 각자의 데이터를 샘플링해 개별적으로 학습을 수행한 뒤, 최종적으로 모든 분류기가 보팅을 통해 예측 결정\n",
    "\n",
    "부트스트래핑: 여러개의 데이터 세트를 중첩되게 분리하는 것 -> 랜덤 포레스트는 개별적인 분류기의 기반 알고리즘은 결정트리이지만, 개별 트리가 학습하는 데이터 세트는 전체 데이터에서 일부가 중첩되게 샘플링된 데이터 세트"
   ]
  },
  {
   "cell_type": "markdown",
   "id": "b11cfb2f",
   "metadata": {},
   "source": [
    "# 4. GBM(Gradient Boosting Machine) 알고리즘에 대해 간단히 설명하시오.\n",
    "부스팅의 대표 알고리즘 중 하나\n",
    "\n",
    "가중치 업데이트로 경사 하강법을 이용한다.\n",
    "\n",
    "경사 하강법: 오류식 h(x) = y -F(x) 를 최소화 하는 방향성을 가지고 반복적으로 가중치 값을 업데이트 하는 것\n",
    "- 반복 수행을 통해 오류를 최소화 할 수 있도록 가중치의 업데이트 값을 도출하는 기법"
   ]
  },
  {
   "cell_type": "markdown",
   "id": "e8f906dc",
   "metadata": {},
   "source": [
    "# 5. XGBoost(eXtra Gradient Boost) 알고리즘애 대해 간략하게 설명하고 GBM 대비 이 알고리즘의 장점에 대해 서술하시오.\n",
    "트리 기반의 앙상블 학습에서 가장 각광받고 있는 알고리즘 중 하나\n",
    "\n",
    "GBM에 기반하고 있지만, GBM의 단점인 느린 수행 시간 및 과적합 규제 부재 등의 문제를 해결하고, 병령 CPU 환경에서 병렬학습이 가능해 기존 GBM 보다 빠르게 학습을 완료할 수 있는 알고리즘"
   ]
  },
  {
   "cell_type": "markdown",
   "id": "f7402a2d",
   "metadata": {},
   "source": [
    "# 6. LightGBM 알고리즘애 대해 간략하게 설명하고 XGBoost 대비 이 알고리즘의 장점에 대해 서술하시오.\n",
    "LightGBM은 일반 GBM 계열의 트리 분할 방법과 다르게 리프 중심 트리 분할(Leaf Wise) 방식을 사용한다.\n",
    "\n",
    "LightGBM의 리프 중심 트리 분할 방식은 트리의 균형을 맞추지 않고, 최대 손실 값을 가지는 리프 노드를 지속적으로 분할하면서 트리의 깊이가 깊어지고 비대칭적인 규칙 트리가 생성되어 균형 트리분할 방식보다 예측 오류 손실을 최소화 할 수 있다.\n",
    "\n",
    "XGBoost보다 학습에 걸리는 시간이 훨씬 적다는 것이 장점이다. 또한 메모리 사용량도 상대적으로 적다. 그렇지만 성능상의 차이는 별달리 없으면, 기능상의 다양성은 LightBGM이 더 많다."
   ]
  },
  {
   "cell_type": "markdown",
   "id": "54b34184",
   "metadata": {},
   "source": [
    "# 7. (Coding Part) titanic.csv 데이터를 기반으로 타이타닉호 승객 생존률을 예측하는 모델을 만들고자 한다."
   ]
  },
  {
   "cell_type": "code",
   "execution_count": 13,
   "id": "1b1eeca6",
   "metadata": {},
   "outputs": [
    {
     "data": {
      "text/html": [
       "<div>\n",
       "<style scoped>\n",
       "    .dataframe tbody tr th:only-of-type {\n",
       "        vertical-align: middle;\n",
       "    }\n",
       "\n",
       "    .dataframe tbody tr th {\n",
       "        vertical-align: top;\n",
       "    }\n",
       "\n",
       "    .dataframe thead th {\n",
       "        text-align: right;\n",
       "    }\n",
       "</style>\n",
       "<table border=\"1\" class=\"dataframe\">\n",
       "  <thead>\n",
       "    <tr style=\"text-align: right;\">\n",
       "      <th></th>\n",
       "      <th>PassengerId</th>\n",
       "      <th>Survived</th>\n",
       "      <th>Pclass</th>\n",
       "      <th>Name</th>\n",
       "      <th>Sex</th>\n",
       "      <th>Age</th>\n",
       "      <th>SibSp</th>\n",
       "      <th>Parch</th>\n",
       "      <th>Ticket</th>\n",
       "      <th>Fare</th>\n",
       "      <th>Cabin</th>\n",
       "      <th>Embarked</th>\n",
       "    </tr>\n",
       "  </thead>\n",
       "  <tbody>\n",
       "    <tr>\n",
       "      <th>0</th>\n",
       "      <td>1</td>\n",
       "      <td>0</td>\n",
       "      <td>3</td>\n",
       "      <td>Braund, Mr. Owen Harris</td>\n",
       "      <td>male</td>\n",
       "      <td>22.0</td>\n",
       "      <td>1</td>\n",
       "      <td>0</td>\n",
       "      <td>A/5 21171</td>\n",
       "      <td>7.2500</td>\n",
       "      <td>NaN</td>\n",
       "      <td>S</td>\n",
       "    </tr>\n",
       "    <tr>\n",
       "      <th>1</th>\n",
       "      <td>2</td>\n",
       "      <td>1</td>\n",
       "      <td>1</td>\n",
       "      <td>Cumings, Mrs. John Bradley (Florence Briggs Th...</td>\n",
       "      <td>female</td>\n",
       "      <td>38.0</td>\n",
       "      <td>1</td>\n",
       "      <td>0</td>\n",
       "      <td>PC 17599</td>\n",
       "      <td>71.2833</td>\n",
       "      <td>C85</td>\n",
       "      <td>C</td>\n",
       "    </tr>\n",
       "    <tr>\n",
       "      <th>2</th>\n",
       "      <td>3</td>\n",
       "      <td>1</td>\n",
       "      <td>3</td>\n",
       "      <td>Heikkinen, Miss. Laina</td>\n",
       "      <td>female</td>\n",
       "      <td>26.0</td>\n",
       "      <td>0</td>\n",
       "      <td>0</td>\n",
       "      <td>STON/O2. 3101282</td>\n",
       "      <td>7.9250</td>\n",
       "      <td>NaN</td>\n",
       "      <td>S</td>\n",
       "    </tr>\n",
       "  </tbody>\n",
       "</table>\n",
       "</div>"
      ],
      "text/plain": [
       "   PassengerId  Survived  Pclass  \\\n",
       "0            1         0       3   \n",
       "1            2         1       1   \n",
       "2            3         1       3   \n",
       "\n",
       "                                                Name     Sex   Age  SibSp  \\\n",
       "0                            Braund, Mr. Owen Harris    male  22.0      1   \n",
       "1  Cumings, Mrs. John Bradley (Florence Briggs Th...  female  38.0      1   \n",
       "2                             Heikkinen, Miss. Laina  female  26.0      0   \n",
       "\n",
       "   Parch            Ticket     Fare Cabin Embarked  \n",
       "0      0         A/5 21171   7.2500   NaN        S  \n",
       "1      0          PC 17599  71.2833   C85        C  \n",
       "2      0  STON/O2. 3101282   7.9250   NaN        S  "
      ]
     },
     "execution_count": 13,
     "metadata": {},
     "output_type": "execute_result"
    }
   ],
   "source": [
    "import pandas as pd\n",
    "\n",
    "from sklearn.ensemble import VotingClassifier\n",
    "from sklearn.linear_model import LogisticRegression\n",
    "from sklearn.neighbors import KNeighborsClassifier\n",
    "from sklearn.datasets import load_breast_cancer\n",
    "from sklearn.model_selection import train_test_split\n",
    "from sklearn.metrics import accuracy_score\n",
    "\n",
    "titanic_df = pd.read_csv(r'C:\\JupyterNotebook\\titanic_train.csv')\n",
    "titanic_df.head(3)"
   ]
  },
  {
   "cell_type": "code",
   "execution_count": 14,
   "id": "d8313de0",
   "metadata": {},
   "outputs": [
    {
     "name": "stdout",
     "output_type": "stream",
     "text": [
      "<class 'pandas.core.frame.DataFrame'>\n",
      "RangeIndex: 891 entries, 0 to 890\n",
      "Data columns (total 12 columns):\n",
      " #   Column       Non-Null Count  Dtype  \n",
      "---  ------       --------------  -----  \n",
      " 0   PassengerId  891 non-null    int64  \n",
      " 1   Survived     891 non-null    int64  \n",
      " 2   Pclass       891 non-null    int64  \n",
      " 3   Name         891 non-null    object \n",
      " 4   Sex          891 non-null    object \n",
      " 5   Age          714 non-null    float64\n",
      " 6   SibSp        891 non-null    int64  \n",
      " 7   Parch        891 non-null    int64  \n",
      " 8   Ticket       891 non-null    object \n",
      " 9   Fare         891 non-null    float64\n",
      " 10  Cabin        204 non-null    object \n",
      " 11  Embarked     889 non-null    object \n",
      "dtypes: float64(2), int64(5), object(5)\n",
      "memory usage: 83.7+ KB\n"
     ]
    }
   ],
   "source": [
    "titanic_df.info()"
   ]
  },
  {
   "cell_type": "code",
   "execution_count": 19,
   "id": "c85f5153",
   "metadata": {},
   "outputs": [],
   "source": [
    "from sklearn.preprocessing import LabelEncoder\n",
    "def fillna(df):\n",
    "    df['Age'].fillna(df['Age'].mean(), inplace=True)\n",
    "    df['Cabin'].fillna('N', inplace=True)\n",
    "    df['Embarked'].fillna('N', inplace=True)\n",
    "    df['Fare'].fillna(0, inplace=True)\n",
    "    return df\n",
    "\n",
    "def drop_features(df):\n",
    "    df.drop(['PassengerId', 'Name', 'Ticket'], axis=1, inplace=True)\n",
    "    return df\n",
    "\n",
    "def format_features(df):\n",
    "    df['Cabin'] = df['Cabin'].str[:1]\n",
    "    features = ['Cabin', 'Sex', 'Embarked']\n",
    "    for feature in features:\n",
    "        le = LabelEncoder()\n",
    "        le = le.fit(df[feature])\n",
    "        df[feature] = le.transform(df[feature])\n",
    "    return df\n",
    "    \n",
    "def transform_features(df):\n",
    "    df = fillna(df)\n",
    "    df = drop_features(df)\n",
    "    df = format_features(df)\n",
    "    return df"
   ]
  },
  {
   "cell_type": "code",
   "execution_count": 20,
   "id": "bb3ec1ee",
   "metadata": {},
   "outputs": [],
   "source": [
    "y_titanic_df = titanic_df['Survived']\n",
    "X_titanic_df = titanic_df.drop('Survived', axis=1)\n",
    "\n",
    "X_titanic_df = transform_features(X_titanic_df)"
   ]
  },
  {
   "cell_type": "code",
   "execution_count": 21,
   "id": "44606fab",
   "metadata": {},
   "outputs": [],
   "source": [
    "from sklearn.model_selection import train_test_split\n",
    "X_train, X_test, y_train, y_test = train_test_split(X_titanic_df, y_titanic_df, test_size=0.2, random_state=11)"
   ]
  },
  {
   "cell_type": "markdown",
   "id": "93914920",
   "metadata": {},
   "source": [
    "## (a) 생존률과 다른 independent variables 간의 상관관계를 나타내시오. 생존률과 가장 correlation이 높은 두가지 variables은 무엇인가?"
   ]
  },
  {
   "cell_type": "code",
   "execution_count": 25,
   "id": "f7a82f15",
   "metadata": {},
   "outputs": [
    {
     "data": {
      "text/plain": [
       "<AxesSubplot:>"
      ]
     },
     "execution_count": 25,
     "metadata": {},
     "output_type": "execute_result"
    },
    {
     "data": {
      "image/png": "[encoded data removed]",
      "text/plain": [
       "<Figure size 648x648 with 2 Axes>"
      ]
     },
     "metadata": {
      "needs_background": "light"
     },
     "output_type": "display_data"
    }
   ],
   "source": [
    "import seaborn as sns\n",
    "import matplotlib.pyplot as plt\n",
    "plt.figure(figsize=(9, 9))\n",
    "corr = titanic_df.corr()\n",
    "sns.heatmap(corr, cmap='RdBu')"
   ]
  },
  {
   "cell_type": "markdown",
   "id": "f0000587",
   "metadata": {},
   "source": [
    "음의 상관관계가 가장 높은 것: Fare, Parch\n",
    "\n",
    "양의 상관관계가 가장 높은 것: Pclass, Age (산 경우)"
   ]
  },
  {
   "cell_type": "code",
   "execution_count": 27,
   "id": "7da60157",
   "metadata": {},
   "outputs": [],
   "source": [
    "import numpy as np\n",
    "\n",
    "from sklearn.neighbors import KNeighborsClassifier\n",
    "from sklearn.ensemble import RandomForestClassifier\n",
    "from sklearn.ensemble import AdaBoostClassifier\n",
    "from sklearn.tree import DecisionTreeClassifier\n",
    "from sklearn.linear_model import LogisticRegression\n",
    "\n",
    "from sklearn.datasets import load_breast_cancer\n",
    "from sklearn.model_selection import train_test_split\n",
    "from sklearn.metrics import accuracy_score"
   ]
  },
  {
   "cell_type": "markdown",
   "id": "d53c4179",
   "metadata": {},
   "source": [
    "## (b) Random Forest 알고리즘을 통해 생존률을 예측하고 모델의 정확도를 나타내시오"
   ]
  },
  {
   "cell_type": "code",
   "execution_count": 37,
   "id": "ff6074d3",
   "metadata": {},
   "outputs": [
    {
     "name": "stdout",
     "output_type": "stream",
     "text": [
      "85 %\n"
     ]
    }
   ],
   "source": [
    "rf_clf = RandomForestClassifier()\n",
    "rf_clf.fit(X_train, y_train)\n",
    "pred = rf_clf.predict(X_test)\n",
    "accuracy = accuracy_score(y_test, pred)\n",
    "print(round(accuracy*100) ,'%')"
   ]
  },
  {
   "cell_type": "markdown",
   "id": "2eea5c49",
   "metadata": {},
   "source": [
    "## (b) Random Forest 알고리즘을 통해 생존률을 예측하고 모델의 정확도를 나타내시오"
   ]
  },
  {
   "cell_type": "code",
   "execution_count": 40,
   "id": "ad981771",
   "metadata": {},
   "outputs": [
    {
     "name": "stdout",
     "output_type": "stream",
     "text": [
      "최적 하이퍼 파라미터:\n",
      " {'max_depth': 8, 'min_samples_leaf': 4, 'min_samples_split': 8, 'n_estimators': 100}\n",
      "최고 예측 정확도: 81.8820%\n"
     ]
    }
   ],
   "source": [
    "from sklearn.model_selection import GridSearchCV\n",
    "\n",
    "params = {\n",
    "    'n_estimators':[100],\n",
    "    'max_depth' : [6, 8, 10, 12], \n",
    "    'min_samples_leaf' : [4, 5, 8, 12],\n",
    "    'min_samples_split' : [7, 8, 14, 16]\n",
    "}\n",
    "# RandomForestClassifier 객체 생성 후 GridSearchCV 수행\n",
    "rf_clf = RandomForestClassifier(n_jobs=-1)\n",
    "grid_cv = GridSearchCV(rf_clf , param_grid=params , cv=2, n_jobs=-1 )\n",
    "grid_cv.fit(X_train , y_train)\n",
    "\n",
    "print('최적 하이퍼 파라미터:\\n', grid_cv.best_params_)\n",
    "print('최고 예측 정확도: {0:.4f}%'.format(grid_cv.best_score_ * 100)) "
   ]
  },
  {
   "cell_type": "markdown",
   "id": "55615646",
   "metadata": {},
   "source": [
    "## (c) GridSearchCV를 사용하여 최적의 hyper-parameter를 가진 모델을 생성하고 그 모델의 최고 예측 정확도를 나타내시오."
   ]
  },
  {
   "cell_type": "code",
   "execution_count": 39,
   "id": "c6b2d6a4",
   "metadata": {},
   "outputs": [
    {
     "name": "stdout",
     "output_type": "stream",
     "text": [
      "예측 정확도: 85.4749%\n"
     ]
    }
   ],
   "source": [
    "rf_clf1 = RandomForestClassifier(n_estimators=300, max_depth=10, min_samples_leaf=5, min_samples_split=14)\n",
    "rf_clf1.fit(X_train , y_train)\n",
    "pred = rf_clf1.predict(X_test)\n",
    "print('예측 정확도: {0:.4f}%'.format(accuracy_score(y_test , pred)*100))"
   ]
  },
  {
   "cell_type": "markdown",
   "id": "827f22a5",
   "metadata": {},
   "source": [
    "## (d) bar plot을 사용하여 feature importance를 나타내시오."
   ]
  },
  {
   "cell_type": "code",
   "execution_count": 41,
   "id": "12c23a32",
   "metadata": {},
   "outputs": [
    {
     "data": {
      "image/png": "[encoded data removed]",
      "text/plain": [
       "<Figure size 576x432 with 1 Axes>"
      ]
     },
     "metadata": {
      "needs_background": "light"
     },
     "output_type": "display_data"
    }
   ],
   "source": [
    "import matplotlib.pyplot as plt\n",
    "import seaborn as sns\n",
    "%matplotlib inline\n",
    "\n",
    "ftr_importances_values = rf_clf1.feature_importances_\n",
    "ftr_importances = pd.Series(ftr_importances_values,index=X_train.columns  )\n",
    "ftr_top20 = ftr_importances.sort_values(ascending=False)[:20]\n",
    "\n",
    "plt.figure(figsize=(8,6))\n",
    "plt.title('Feature importances Top 20')\n",
    "sns.barplot(x=ftr_top20 , y = ftr_top20.index)\n",
    "plt.show()"
   ]
  },
  {
   "cell_type": "markdown",
   "id": "82a45d94",
   "metadata": {},
   "source": [
    "# (e) XGBoowst 래퍼를 사용하여 생존율을 예측하고 그 모델의 정확도를 나타내시오"
   ]
  },
  {
   "cell_type": "code",
   "execution_count": 42,
   "id": "0cb3e127",
   "metadata": {},
   "outputs": [],
   "source": [
    "import xgboost as xgb\n",
    "from xgboost import plot_importance\n",
    "import pandas as pd\n",
    "import numpy as np\n",
    "from sklearn.datasets import load_breast_cancer\n",
    "from sklearn.model_selection import train_test_split\n",
    "import warnings\n",
    "warnings.filterwarnings('ignore')"
   ]
  },
  {
   "cell_type": "code",
   "execution_count": 43,
   "id": "ad8d25f8",
   "metadata": {},
   "outputs": [],
   "source": [
    "dtrain = xgb.DMatrix(data=X_train , label=y_train)\n",
    "dtest = xgb.DMatrix(data=X_test , label=y_test)"
   ]
  },
  {
   "cell_type": "code",
   "execution_count": 44,
   "id": "03b4ab00",
   "metadata": {},
   "outputs": [],
   "source": [
    "params = { 'max_depth':3,\n",
    "           'eta': 0.1,\n",
    "           'objective':'binary:logistic',\n",
    "           'eval_metric':'logloss'\n",
    "        }\n",
    "num_rounds = 400"
   ]
  },
  {
   "cell_type": "code",
   "execution_count": 45,
   "id": "a329c314",
   "metadata": {},
   "outputs": [
    {
     "name": "stdout",
     "output_type": "stream",
     "text": [
      "[0]\ttrain-logloss:0.65029\teval-logloss:0.64363\n",
      "[1]\ttrain-logloss:0.61507\teval-logloss:0.60230\n",
      "[2]\ttrain-logloss:0.58485\teval-logloss:0.56813\n",
      "[3]\ttrain-logloss:0.55821\teval-logloss:0.53851\n",
      "[4]\ttrain-logloss:0.53572\teval-logloss:0.51327\n",
      "[5]\ttrain-logloss:0.51792\teval-logloss:0.49142\n",
      "[6]\ttrain-logloss:0.50277\teval-logloss:0.47345\n",
      "[7]\ttrain-logloss:0.49016\teval-logloss:0.45833\n",
      "[8]\ttrain-logloss:0.47881\teval-logloss:0.44434\n",
      "[9]\ttrain-logloss:0.46933\teval-logloss:0.43265\n",
      "[10]\ttrain-logloss:0.46103\teval-logloss:0.42314\n",
      "[11]\ttrain-logloss:0.45191\teval-logloss:0.41294\n",
      "[12]\ttrain-logloss:0.44554\teval-logloss:0.40494\n",
      "[13]\ttrain-logloss:0.43983\teval-logloss:0.39923\n",
      "[14]\ttrain-logloss:0.43340\teval-logloss:0.39177\n",
      "[15]\ttrain-logloss:0.42893\teval-logloss:0.38741\n",
      "[16]\ttrain-logloss:0.42468\teval-logloss:0.38192\n",
      "[17]\ttrain-logloss:0.42105\teval-logloss:0.37808\n",
      "[18]\ttrain-logloss:0.41676\teval-logloss:0.37361\n",
      "[19]\ttrain-logloss:0.41293\teval-logloss:0.37122\n",
      "[20]\ttrain-logloss:0.40942\teval-logloss:0.36748\n",
      "[21]\ttrain-logloss:0.40692\teval-logloss:0.36583\n",
      "[22]\ttrain-logloss:0.40370\teval-logloss:0.36288\n",
      "[23]\ttrain-logloss:0.40047\teval-logloss:0.36092\n",
      "[24]\ttrain-logloss:0.39812\teval-logloss:0.35972\n",
      "[25]\ttrain-logloss:0.39569\teval-logloss:0.35902\n",
      "[26]\ttrain-logloss:0.39371\teval-logloss:0.35813\n",
      "[27]\ttrain-logloss:0.39198\teval-logloss:0.35742\n",
      "[28]\ttrain-logloss:0.38992\teval-logloss:0.35712\n",
      "[29]\ttrain-logloss:0.38844\teval-logloss:0.35654\n",
      "[30]\ttrain-logloss:0.38675\teval-logloss:0.35552\n",
      "[31]\ttrain-logloss:0.38530\teval-logloss:0.35431\n",
      "[32]\ttrain-logloss:0.38240\teval-logloss:0.35522\n",
      "[33]\ttrain-logloss:0.38145\teval-logloss:0.35452\n",
      "[34]\ttrain-logloss:0.38043\teval-logloss:0.35359\n",
      "[35]\ttrain-logloss:0.37961\teval-logloss:0.35305\n",
      "[36]\ttrain-logloss:0.37786\teval-logloss:0.35272\n",
      "[37]\ttrain-logloss:0.37702\teval-logloss:0.35161\n",
      "[38]\ttrain-logloss:0.37533\teval-logloss:0.35034\n",
      "[39]\ttrain-logloss:0.37439\teval-logloss:0.35036\n",
      "[40]\ttrain-logloss:0.37374\teval-logloss:0.34979\n",
      "[41]\ttrain-logloss:0.37264\teval-logloss:0.34933\n",
      "[42]\ttrain-logloss:0.37194\teval-logloss:0.34925\n",
      "[43]\ttrain-logloss:0.36972\teval-logloss:0.34883\n",
      "[44]\ttrain-logloss:0.36916\teval-logloss:0.34858\n",
      "[45]\ttrain-logloss:0.36788\teval-logloss:0.34810\n",
      "[46]\ttrain-logloss:0.36699\teval-logloss:0.34853\n",
      "[47]\ttrain-logloss:0.36484\teval-logloss:0.34898\n",
      "[48]\ttrain-logloss:0.36428\teval-logloss:0.34945\n",
      "[49]\ttrain-logloss:0.36260\teval-logloss:0.34829\n",
      "[50]\ttrain-logloss:0.36210\teval-logloss:0.34788\n",
      "[51]\ttrain-logloss:0.36093\teval-logloss:0.34809\n",
      "[52]\ttrain-logloss:0.35987\teval-logloss:0.34778\n",
      "[53]\ttrain-logloss:0.35803\teval-logloss:0.34842\n",
      "[54]\ttrain-logloss:0.35747\teval-logloss:0.34824\n",
      "[55]\ttrain-logloss:0.35700\teval-logloss:0.34811\n",
      "[56]\ttrain-logloss:0.35599\teval-logloss:0.34806\n",
      "[57]\ttrain-logloss:0.35557\teval-logloss:0.34795\n",
      "[58]\ttrain-logloss:0.35398\teval-logloss:0.34862\n",
      "[59]\ttrain-logloss:0.35350\teval-logloss:0.34850\n",
      "[60]\ttrain-logloss:0.35225\teval-logloss:0.34875\n",
      "[61]\ttrain-logloss:0.35141\teval-logloss:0.34841\n",
      "[62]\ttrain-logloss:0.34975\teval-logloss:0.34889\n",
      "[63]\ttrain-logloss:0.34932\teval-logloss:0.34851\n",
      "[64]\ttrain-logloss:0.34864\teval-logloss:0.34888\n",
      "[65]\ttrain-logloss:0.34717\teval-logloss:0.34895\n",
      "[66]\ttrain-logloss:0.34678\teval-logloss:0.34921\n",
      "[67]\ttrain-logloss:0.34557\teval-logloss:0.34941\n",
      "[68]\ttrain-logloss:0.34433\teval-logloss:0.35033\n",
      "[69]\ttrain-logloss:0.34278\teval-logloss:0.35030\n",
      "[70]\ttrain-logloss:0.34244\teval-logloss:0.35038\n",
      "[71]\ttrain-logloss:0.34171\teval-logloss:0.34974\n",
      "[72]\ttrain-logloss:0.34112\teval-logloss:0.34989\n",
      "[73]\ttrain-logloss:0.34067\teval-logloss:0.34972\n",
      "[74]\ttrain-logloss:0.34036\teval-logloss:0.34967\n",
      "[75]\ttrain-logloss:0.33982\teval-logloss:0.34979\n",
      "[76]\ttrain-logloss:0.33793\teval-logloss:0.34926\n",
      "[77]\ttrain-logloss:0.33697\teval-logloss:0.35009\n",
      "[78]\ttrain-logloss:0.33669\teval-logloss:0.35020\n",
      "[79]\ttrain-logloss:0.33573\teval-logloss:0.35092\n",
      "[80]\ttrain-logloss:0.33435\teval-logloss:0.35033\n",
      "[81]\ttrain-logloss:0.33330\teval-logloss:0.35016\n",
      "[82]\ttrain-logloss:0.33281\teval-logloss:0.35034\n",
      "[83]\ttrain-logloss:0.33149\teval-logloss:0.34983\n",
      "[84]\ttrain-logloss:0.33126\teval-logloss:0.34961\n",
      "[85]\ttrain-logloss:0.33027\teval-logloss:0.35018\n",
      "[86]\ttrain-logloss:0.32989\teval-logloss:0.35007\n",
      "[87]\ttrain-logloss:0.32968\teval-logloss:0.35014\n",
      "[88]\ttrain-logloss:0.32797\teval-logloss:0.35066\n",
      "[89]\ttrain-logloss:0.32685\teval-logloss:0.35081\n",
      "[90]\ttrain-logloss:0.32588\teval-logloss:0.35103\n",
      "[91]\ttrain-logloss:0.32491\teval-logloss:0.35100\n",
      "[92]\ttrain-logloss:0.32412\teval-logloss:0.35114\n",
      "[93]\ttrain-logloss:0.32327\teval-logloss:0.35164\n",
      "[94]\ttrain-logloss:0.32243\teval-logloss:0.35193\n",
      "[95]\ttrain-logloss:0.32159\teval-logloss:0.35247\n",
      "[96]\ttrain-logloss:0.32125\teval-logloss:0.35233\n",
      "[97]\ttrain-logloss:0.32109\teval-logloss:0.35225\n",
      "[98]\ttrain-logloss:0.32041\teval-logloss:0.35328\n",
      "[99]\ttrain-logloss:0.31972\teval-logloss:0.35365\n",
      "[100]\ttrain-logloss:0.31937\teval-logloss:0.35385\n",
      "[101]\ttrain-logloss:0.31874\teval-logloss:0.35424\n",
      "[102]\ttrain-logloss:0.31809\teval-logloss:0.35378\n",
      "[103]\ttrain-logloss:0.31750\teval-logloss:0.35384\n",
      "[104]\ttrain-logloss:0.31599\teval-logloss:0.35449\n",
      "[105]\ttrain-logloss:0.31446\teval-logloss:0.35276\n",
      "[106]\ttrain-logloss:0.31363\teval-logloss:0.35309\n",
      "[107]\ttrain-logloss:0.31234\teval-logloss:0.35333\n",
      "[108]\ttrain-logloss:0.31162\teval-logloss:0.35396\n",
      "[109]\ttrain-logloss:0.31090\teval-logloss:0.35347\n",
      "[110]\ttrain-logloss:0.30972\teval-logloss:0.35433\n",
      "[111]\ttrain-logloss:0.30918\teval-logloss:0.35446\n",
      "[112]\ttrain-logloss:0.30825\teval-logloss:0.35402\n",
      "[113]\ttrain-logloss:0.30702\teval-logloss:0.35407\n",
      "[114]\ttrain-logloss:0.30631\teval-logloss:0.35437\n",
      "[115]\ttrain-logloss:0.30559\teval-logloss:0.35411\n",
      "[116]\ttrain-logloss:0.30506\teval-logloss:0.35456\n",
      "[117]\ttrain-logloss:0.30407\teval-logloss:0.35531\n",
      "[118]\ttrain-logloss:0.30311\teval-logloss:0.35531\n",
      "[119]\ttrain-logloss:0.30265\teval-logloss:0.35557\n",
      "[120]\ttrain-logloss:0.30210\teval-logloss:0.35603\n",
      "[121]\ttrain-logloss:0.30122\teval-logloss:0.35696\n",
      "[122]\ttrain-logloss:0.30060\teval-logloss:0.35657\n",
      "[123]\ttrain-logloss:0.30005\teval-logloss:0.35624\n",
      "[124]\ttrain-logloss:0.29896\teval-logloss:0.35623\n",
      "[125]\ttrain-logloss:0.29861\teval-logloss:0.35677\n",
      "[126]\ttrain-logloss:0.29812\teval-logloss:0.35695\n",
      "[127]\ttrain-logloss:0.29761\teval-logloss:0.35630\n",
      "[128]\ttrain-logloss:0.29701\teval-logloss:0.35641\n",
      "[129]\ttrain-logloss:0.29607\teval-logloss:0.35650\n",
      "[130]\ttrain-logloss:0.29576\teval-logloss:0.35703\n",
      "[131]\ttrain-logloss:0.29565\teval-logloss:0.35732\n",
      "[132]\ttrain-logloss:0.29490\teval-logloss:0.35769\n",
      "[133]\ttrain-logloss:0.29462\teval-logloss:0.35780\n",
      "[134]\ttrain-logloss:0.29447\teval-logloss:0.35820\n",
      "[135]\ttrain-logloss:0.29361\teval-logloss:0.35826\n",
      "[136]\ttrain-logloss:0.29307\teval-logloss:0.35825\n",
      "[137]\ttrain-logloss:0.29263\teval-logloss:0.35786\n",
      "[138]\ttrain-logloss:0.29214\teval-logloss:0.35821\n",
      "[139]\ttrain-logloss:0.29167\teval-logloss:0.35794\n",
      "[140]\ttrain-logloss:0.29105\teval-logloss:0.35804\n",
      "[141]\ttrain-logloss:0.29031\teval-logloss:0.35806\n",
      "[142]\ttrain-logloss:0.28998\teval-logloss:0.35821\n",
      "[143]\ttrain-logloss:0.28938\teval-logloss:0.35827\n",
      "[144]\ttrain-logloss:0.28894\teval-logloss:0.35778\n",
      "[145]\ttrain-logloss:0.28778\teval-logloss:0.35732\n",
      "[146]\ttrain-logloss:0.28750\teval-logloss:0.35744\n",
      "[147]\ttrain-logloss:0.28722\teval-logloss:0.35808\n",
      "[148]\ttrain-logloss:0.28686\teval-logloss:0.35856\n",
      "[149]\ttrain-logloss:0.28619\teval-logloss:0.35834\n",
      "[150]\ttrain-logloss:0.28539\teval-logloss:0.35862\n",
      "[151]\ttrain-logloss:0.28495\teval-logloss:0.35913\n"
     ]
    }
   ],
   "source": [
    "# train 데이터 셋은 ‘train’ , evaluation(test) 데이터 셋은 ‘eval’ 로 명기합니다. \n",
    "wlist = [(dtrain,'train'),(dtest,'eval') ]\n",
    "# 하이퍼 파라미터와 early stopping 파라미터를 train( ) 함수의 파라미터로 전달\n",
    "xgb_model = xgb.train(params = params , dtrain=dtrain , num_boost_round=num_rounds ,early_stopping_rounds=100, evals=wlist )"
   ]
  },
  {
   "cell_type": "code",
   "execution_count": 46,
   "id": "286aca2f",
   "metadata": {},
   "outputs": [
    {
     "name": "stdout",
     "output_type": "stream",
     "text": [
      "predict( ) 수행 결과값을 10개만 표시, 예측 확률 값으로 표시됨\n",
      "[0.538 0.164 0.066 0.062 0.275 0.058 0.049 0.861 0.066 0.868]\n",
      "예측값 10개만 표시: [1, 0, 0, 0, 0, 0, 0, 1, 0, 1]\n"
     ]
    }
   ],
   "source": [
    "pred_probs = xgb_model.predict(dtest)\n",
    "print('predict( ) 수행 결과값을 10개만 표시, 예측 확률 값으로 표시됨')\n",
    "print(np.round(pred_probs[:10],3))\n",
    "\n",
    "# 예측 확률이 0.5 보다 크면 1 , 그렇지 않으면 0 으로 예측값 결정하여 List 객체인 preds에 저장 \n",
    "preds = [ 1 if x > 0.5 else 0 for x in pred_probs ]\n",
    "print('예측값 10개만 표시:',preds[:10])"
   ]
  },
  {
   "cell_type": "code",
   "execution_count": 50,
   "id": "1f9cd3b6",
   "metadata": {},
   "outputs": [],
   "source": [
    "from sklearn.metrics import confusion_matrix, accuracy_score\n",
    "from sklearn.metrics import precision_score, recall_score\n",
    "from sklearn.metrics import f1_score, roc_auc_score\n",
    "\n",
    "def get_clf_eval(y_test, pred=None, pred_proba=None):\n",
    "    confusion = confusion_matrix( y_test, pred)\n",
    "    accuracy = accuracy_score(y_test , pred)\n",
    "    precision = precision_score(y_test , pred)\n",
    "    recall = recall_score(y_test , pred)\n",
    "    f1 = f1_score(y_test,pred)\n",
    "    # ROC-AUC 추가 \n",
    "    roc_auc = roc_auc_score(y_test, pred_proba)\n",
    "    print('오차 행렬')\n",
    "    print(confusion)\n",
    "    # ROC-AUC print 추가\n",
    "    print('정확도: {0:.4f}, 정밀도: {1:.4f}, 재현율: {2:.4f}, F1: {3:.4f}, AUC:{4:.4f}'.format(accuracy, precision, recall, f1, roc_auc))"
   ]
  },
  {
   "cell_type": "markdown",
   "id": "72856367",
   "metadata": {},
   "source": [
    "### XGBoost model의 정확도"
   ]
  },
  {
   "cell_type": "code",
   "execution_count": 48,
   "id": "e78f7d5b",
   "metadata": {},
   "outputs": [
    {
     "name": "stdout",
     "output_type": "stream",
     "text": [
      "오차 행렬\n",
      "[[111   7]\n",
      " [ 15  46]]\n",
      "정확도: 0.8771, 정밀도: 0.8679, 재현율: 0.7541,    F1: 0.8070, AUC:0.8965\n"
     ]
    }
   ],
   "source": [
    "get_clf_eval(y_test , preds, pred_probs)"
   ]
  }
 ],
 "metadata": {
  "kernelspec": {
   "display_name": "Python 3",
   "language": "python",
   "name": "python3"
  },
  "language_info": {
   "codemirror_mode": {
    "name": "ipython",
    "version": 3
   },
   "file_extension": ".py",
   "mimetype": "text/x-python",
   "name": "python",
   "nbconvert_exporter": "python",
   "pygments_lexer": "ipython3",
   "version": "3.8.8"
  }
 },
 "nbformat": 4,
 "nbformat_minor": 5
}

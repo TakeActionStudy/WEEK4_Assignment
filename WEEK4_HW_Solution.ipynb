{
 "cells": [
  {
   "cell_type": "markdown",
   "metadata": {},
   "source": [
    "#### 1. 앙상블 학습의 대표적인 학습 방법 3가지와 그 방법들 사이의 차이점을 서술하시오. "
   ]
  },
  {
   "cell_type": "markdown",
   "metadata": {},
   "source": [
    "답: 보팅(Voting), 배깅(Bagging), 부스팅(Boosting)\n",
    "    보팅과 배깅은 여러개의 classifiers의 예측결과를 종합한뒤 투표를 통해 최종 예측 결과를 결정하는 방법이다. 하지만 보팅은 서로 다른 알고리즘을 가진 classifiers의 결과를 결합하는 반면 배깅은 모두 같은 알고리즘을 가진 classifiers들을 결합하지만 데이터 샘플링(Bootstrapping)을 통해 서로 다른 샘플링 데이터로 학습한 결과를 결합한다. 부스팅은 여러개의 classifiers가 순차적으로 학습을 할때 그 다음으로 학습하는 classifier에 가중치를 주면서 학습을 진행하는 기법이다.  \n",
    "    "
   ]
  },
  {
   "cell_type": "markdown",
   "metadata": {},
   "source": [
    "#### 2. 보팅(Voting)의 유형 두가지와 그 들의 차이점을 서술하시오."
   ]
  },
  {
   "cell_type": "markdown",
   "metadata": {},
   "source": [
    "하드 보팅(Hard Voting): 다수결의 원칙처럼 다수의 classifiers가 예측한 값을 최종결과로 선택\n",
    "소프트 보팅(Soft Voting): classifiers의 각 class의 예측확률을 평균내어 가장 높은 값을 가진 class를 최종결과로 선택"
   ]
  },
  {
   "cell_type": "markdown",
   "metadata": {},
   "source": [
    "#### 3. 랜덤포레스트(Random Forest)의 결과 에측 과정을 간략하게 설명하시오."
   ]
  },
  {
   "cell_type": "markdown",
   "metadata": {},
   "source": [
    "여러개의 decision tree들이 전체 데이터에서 bagging 방식으로 각자의 데이터를 샘플링하여 개별적으로 학습한 뒤 최종적으로 각각의 결과들을 모아  voting을 통하여 최종 예측 결과를 결정한다. 이때 데이터 샘플링을 진행할때 매 sub dataset마다 중첩을 허용한다."
   ]
  },
  {
   "cell_type": "markdown",
   "metadata": {},
   "source": [
    "#### 4. GBM(Gradient Boosting Machine) 알고리즘에 대해 간단히 설명하시오."
   ]
  },
  {
   "cell_type": "markdown",
   "metadata": {},
   "source": [
    "앞 classifier에서 잘못 예측한 데이터에 가중치를 더하여 그 다음 classifier가 오류를 개선하여 학습할 수 있도록 유도하는 알고리즘을\n",
    "부스팅이라 일컫는다. 부스팅 알고리즘 중에서 가중치 업데이트를 경사 하강법을 이용하는 알고리즘이 GBM이다."
   ]
  },
  {
   "cell_type": "markdown",
   "metadata": {},
   "source": [
    "#### 5. XGBoost(eXtra Gradient Boost) 알고리즘애 대해 간략하게 설명하고 GBM 대비 이 알고리즘의 장점에 대해 서술하시오."
   ]
  },
  {
   "cell_type": "markdown",
   "metadata": {},
   "source": [
    "GBM에 기반하고 있지만 GBM의 과적합 문제와 느린 수행 시간을 보안시킨 알고리즘이다. 또한 나무 가지치기(tree pruning)와 자체 내장된 교차 검증과 결손값 처리 기능을 통해 성능이 향상 되었다."
   ]
  },
  {
   "cell_type": "markdown",
   "metadata": {},
   "source": [
    "#### 6. LightGBM 알고리즘애 대해 간략하게 설명하고 XGBoost 대비 이 알고리즘의 장점에 대해 서술하시오."
   ]
  },
  {
   "cell_type": "markdown",
   "metadata": {},
   "source": [
    "LightGBM은 XGBoost보다 학습시간이 더욱 적게 걸린다. 그러나 성능에는 별차이가 없고 적은 데이터 세트에 적용할시에 과적합이 쉽게 발생한다. \n",
    "그 이유는 LightGBM이 Leaf Wise 분할 방식을 채택하였기 떄문에 균형 잡힌 트리를 생성하지 않기 때문이다."
   ]
  },
  {
   "cell_type": "markdown",
   "metadata": {},
   "source": [
    "#### 7. (Coding Part) titanic.csv 데이터를 기반으로 타이타닉호 승객 생존률을 예측하는 모델을 만들고자 한다."
   ]
  },
  {
   "cell_type": "markdown",
   "metadata": {},
   "source": [
    "#####       (a) 생존률과 다른 independent variables 간의 상관관계를 나타내시오. 생존률과 가장 correlation이 높은 두가지 variables은 무엇인가?"
   ]
  },
  {
   "cell_type": "code",
   "execution_count": 49,
   "metadata": {},
   "outputs": [],
   "source": [
    "import numpy as np\n",
    "import pandas as pd\n",
    "from pandas import Series\n",
    "import matplotlib.pyplot as plt\n",
    "import seaborn as sns\n",
    "\n",
    "#DATA Preparation\n",
    "df = pd.read_csv(\"train.csv\")\n",
    "df = df.drop([\"PassengerId\", \"Ticket\",\"Cabin\", \"Name\"], axis=1)\n",
    "sexdict = {\"male\":0, \"female\":1}\n",
    "df.Sex = df.Sex.replace(sexdict)\n",
    "df=df.dropna()\n",
    "df = df.query('Embarked == \"C\" |Embarked == \"S\"')\n",
    "df=pd.get_dummies(df, [\"Embarked\"])\n",
    "df.to_csv('titanic.csv')"
   ]
  },
  {
   "cell_type": "code",
   "execution_count": 13,
   "metadata": {},
   "outputs": [
    {
     "data": {
      "text/html": [
       "<div>\n",
       "<style scoped>\n",
       "    .dataframe tbody tr th:only-of-type {\n",
       "        vertical-align: middle;\n",
       "    }\n",
       "\n",
       "    .dataframe tbody tr th {\n",
       "        vertical-align: top;\n",
       "    }\n",
       "\n",
       "    .dataframe thead th {\n",
       "        text-align: right;\n",
       "    }\n",
       "</style>\n",
       "<table border=\"1\" class=\"dataframe\">\n",
       "  <thead>\n",
       "    <tr style=\"text-align: right;\">\n",
       "      <th></th>\n",
       "      <th>Survived</th>\n",
       "      <th>Pclass</th>\n",
       "      <th>Sex</th>\n",
       "      <th>Age</th>\n",
       "      <th>SibSp</th>\n",
       "      <th>Parch</th>\n",
       "      <th>Fare</th>\n",
       "      <th>Embarked_C</th>\n",
       "      <th>Embarked_S</th>\n",
       "    </tr>\n",
       "  </thead>\n",
       "  <tbody>\n",
       "    <tr>\n",
       "      <th>0</th>\n",
       "      <td>0</td>\n",
       "      <td>3</td>\n",
       "      <td>0</td>\n",
       "      <td>22.0</td>\n",
       "      <td>1</td>\n",
       "      <td>0</td>\n",
       "      <td>7.2500</td>\n",
       "      <td>0</td>\n",
       "      <td>1</td>\n",
       "    </tr>\n",
       "    <tr>\n",
       "      <th>1</th>\n",
       "      <td>1</td>\n",
       "      <td>1</td>\n",
       "      <td>1</td>\n",
       "      <td>38.0</td>\n",
       "      <td>1</td>\n",
       "      <td>0</td>\n",
       "      <td>71.2833</td>\n",
       "      <td>1</td>\n",
       "      <td>0</td>\n",
       "    </tr>\n",
       "    <tr>\n",
       "      <th>2</th>\n",
       "      <td>1</td>\n",
       "      <td>3</td>\n",
       "      <td>1</td>\n",
       "      <td>26.0</td>\n",
       "      <td>0</td>\n",
       "      <td>0</td>\n",
       "      <td>7.9250</td>\n",
       "      <td>0</td>\n",
       "      <td>1</td>\n",
       "    </tr>\n",
       "    <tr>\n",
       "      <th>3</th>\n",
       "      <td>1</td>\n",
       "      <td>1</td>\n",
       "      <td>1</td>\n",
       "      <td>35.0</td>\n",
       "      <td>1</td>\n",
       "      <td>0</td>\n",
       "      <td>53.1000</td>\n",
       "      <td>0</td>\n",
       "      <td>1</td>\n",
       "    </tr>\n",
       "    <tr>\n",
       "      <th>4</th>\n",
       "      <td>0</td>\n",
       "      <td>3</td>\n",
       "      <td>0</td>\n",
       "      <td>35.0</td>\n",
       "      <td>0</td>\n",
       "      <td>0</td>\n",
       "      <td>8.0500</td>\n",
       "      <td>0</td>\n",
       "      <td>1</td>\n",
       "    </tr>\n",
       "    <tr>\n",
       "      <th>...</th>\n",
       "      <td>...</td>\n",
       "      <td>...</td>\n",
       "      <td>...</td>\n",
       "      <td>...</td>\n",
       "      <td>...</td>\n",
       "      <td>...</td>\n",
       "      <td>...</td>\n",
       "      <td>...</td>\n",
       "      <td>...</td>\n",
       "    </tr>\n",
       "    <tr>\n",
       "      <th>883</th>\n",
       "      <td>0</td>\n",
       "      <td>2</td>\n",
       "      <td>0</td>\n",
       "      <td>28.0</td>\n",
       "      <td>0</td>\n",
       "      <td>0</td>\n",
       "      <td>10.5000</td>\n",
       "      <td>0</td>\n",
       "      <td>1</td>\n",
       "    </tr>\n",
       "    <tr>\n",
       "      <th>884</th>\n",
       "      <td>0</td>\n",
       "      <td>3</td>\n",
       "      <td>0</td>\n",
       "      <td>25.0</td>\n",
       "      <td>0</td>\n",
       "      <td>0</td>\n",
       "      <td>7.0500</td>\n",
       "      <td>0</td>\n",
       "      <td>1</td>\n",
       "    </tr>\n",
       "    <tr>\n",
       "      <th>886</th>\n",
       "      <td>0</td>\n",
       "      <td>2</td>\n",
       "      <td>0</td>\n",
       "      <td>27.0</td>\n",
       "      <td>0</td>\n",
       "      <td>0</td>\n",
       "      <td>13.0000</td>\n",
       "      <td>0</td>\n",
       "      <td>1</td>\n",
       "    </tr>\n",
       "    <tr>\n",
       "      <th>887</th>\n",
       "      <td>1</td>\n",
       "      <td>1</td>\n",
       "      <td>1</td>\n",
       "      <td>19.0</td>\n",
       "      <td>0</td>\n",
       "      <td>0</td>\n",
       "      <td>30.0000</td>\n",
       "      <td>0</td>\n",
       "      <td>1</td>\n",
       "    </tr>\n",
       "    <tr>\n",
       "      <th>889</th>\n",
       "      <td>1</td>\n",
       "      <td>1</td>\n",
       "      <td>0</td>\n",
       "      <td>26.0</td>\n",
       "      <td>0</td>\n",
       "      <td>0</td>\n",
       "      <td>30.0000</td>\n",
       "      <td>1</td>\n",
       "      <td>0</td>\n",
       "    </tr>\n",
       "  </tbody>\n",
       "</table>\n",
       "<p>684 rows × 9 columns</p>\n",
       "</div>"
      ],
      "text/plain": [
       "     Survived  Pclass  Sex   Age  SibSp  Parch     Fare  Embarked_C  \\\n",
       "0           0       3    0  22.0      1      0   7.2500           0   \n",
       "1           1       1    1  38.0      1      0  71.2833           1   \n",
       "2           1       3    1  26.0      0      0   7.9250           0   \n",
       "3           1       1    1  35.0      1      0  53.1000           0   \n",
       "4           0       3    0  35.0      0      0   8.0500           0   \n",
       "..        ...     ...  ...   ...    ...    ...      ...         ...   \n",
       "883         0       2    0  28.0      0      0  10.5000           0   \n",
       "884         0       3    0  25.0      0      0   7.0500           0   \n",
       "886         0       2    0  27.0      0      0  13.0000           0   \n",
       "887         1       1    1  19.0      0      0  30.0000           0   \n",
       "889         1       1    0  26.0      0      0  30.0000           1   \n",
       "\n",
       "     Embarked_S  \n",
       "0             1  \n",
       "1             0  \n",
       "2             1  \n",
       "3             1  \n",
       "4             1  \n",
       "..          ...  \n",
       "883           1  \n",
       "884           1  \n",
       "886           1  \n",
       "887           1  \n",
       "889           0  \n",
       "\n",
       "[684 rows x 9 columns]"
      ]
     },
     "execution_count": 13,
     "metadata": {},
     "output_type": "execute_result"
    }
   ],
   "source": [
    "df"
   ]
  },
  {
   "cell_type": "code",
   "execution_count": 15,
   "metadata": {},
   "outputs": [
    {
     "data": {
      "text/plain": [
       "<AxesSubplot:>"
      ]
     },
     "execution_count": 15,
     "metadata": {},
     "output_type": "execute_result"
    },
    {
     "data": {
      "image/png": "[encoded data removed]",
      "text/plain": [
       "<Figure size 432x288 with 2 Axes>"
      ]
     },
     "metadata": {
      "needs_background": "light"
     },
     "output_type": "display_data"
    }
   ],
   "source": [
    "#EDA\n",
    "sns.heatmap(df.corr(),annot=True,cmap=\"YlGnBu\")"
   ]
  },
  {
   "cell_type": "markdown",
   "metadata": {},
   "source": [
    "Higest correlation: Survived vs Sex and Survived vs Pclass"
   ]
  },
  {
   "cell_type": "code",
   "execution_count": 16,
   "metadata": {},
   "outputs": [
    {
     "name": "stderr",
     "output_type": "stream",
     "text": [
      "C:\\Users\\0\\anaconda3\\lib\\site-packages\\seaborn\\_decorators.py:36: FutureWarning: Pass the following variables as keyword args: x, y. From version 0.12, the only valid positional argument will be `data`, and passing other arguments without an explicit keyword will result in an error or misinterpretation.\n",
      "  warnings.warn(\n"
     ]
    },
    {
     "data": {
      "text/plain": [
       "Text(0.5, 1.0, 'Survival vs Pclass')"
      ]
     },
     "execution_count": 16,
     "metadata": {},
     "output_type": "execute_result"
    },
    {
     "data": {
      "image/png": "[encoded data removed]",
      "text/plain": [
       "<Figure size 432x288 with 1 Axes>"
      ]
     },
     "metadata": {
      "needs_background": "light"
     },
     "output_type": "display_data"
    }
   ],
   "source": [
    "pclass = df.groupby(\"Pclass\").mean()\n",
    "sns.barplot(pclass.index, pclass.Survived)\n",
    "plt.title(\"Survival vs Pclass\")\n"
   ]
  },
  {
   "cell_type": "markdown",
   "metadata": {},
   "source": [
    "#####       (b) Random Forest 알고리즘을 통해 생존률을 예측하고 모델의 정확도를 나타내시오"
   ]
  },
  {
   "cell_type": "code",
   "execution_count": 22,
   "metadata": {},
   "outputs": [
    {
     "name": "stdout",
     "output_type": "stream",
     "text": [
      "(478, 8) (478,)\n",
      "(103, 8) (103,)\n",
      "(103, 8) (103,)\n"
     ]
    }
   ],
   "source": [
    "#importing all the required ML packages\n",
    "from sklearn.ensemble import RandomForestClassifier # 유명한 randomforestclassfier 입니다. \n",
    "from sklearn import metrics # 모델의 평가를 위해서 씁니다\n",
    "from sklearn.model_selection import train_test_split # traning set을 쉽게 나눠주는 함수입니다.\n",
    "from sklearn.metrics import accuracy_score\n",
    "\n",
    "\n",
    "training_variables = df.columns.tolist() \n",
    "objective_variable = training_variables[0]\n",
    "del training_variables[0]  \n",
    "X = df[training_variables]\n",
    "y = df[objective_variable]\n",
    "\n",
    "X_train, X_test, y_train, y_test = train_test_split(X,y,test_size=0.30)\n",
    "X_test, X_val, y_test, y_val = train_test_split(X_test, y_test, test_size =0.5)\n",
    "\n",
    "print(X_train.shape, y_train.shape)\n",
    "print(X_val.shape, y_val.shape)\n",
    "print(X_test.shape, y_test.shape)"
   ]
  },
  {
   "cell_type": "code",
   "execution_count": 23,
   "metadata": {},
   "outputs": [],
   "source": [
    "model = RandomForestClassifier()\n",
    "model.fit(X_train, y_train)\n",
    "prediction = model.predict(X_test)"
   ]
  },
  {
   "cell_type": "code",
   "execution_count": 24,
   "metadata": {},
   "outputs": [
    {
     "name": "stdout",
     "output_type": "stream",
     "text": [
      "총 103명 중 78.64% 정확도로 생존을 맞춤\n"
     ]
    }
   ],
   "source": [
    "print('총 {}명 중 {:.2f}% 정확도로 생존을 맞춤'.format(y_test.shape[0], 100 * metrics.accuracy_score(prediction, y_test)))"
   ]
  },
  {
   "cell_type": "markdown",
   "metadata": {},
   "source": [
    "#####       (c) GridSearchCV를 사용하여  최적의 hyper-parameter를 가진 모델을 생성하고 그 모델의 최고 예측 정확도를 나타내시오."
   ]
  },
  {
   "cell_type": "code",
   "execution_count": 29,
   "metadata": {},
   "outputs": [
    {
     "name": "stdout",
     "output_type": "stream",
     "text": [
      "최적 하이퍼 파라미터:\n",
      " {'max_depth': 6, 'min_samples_leaf': 8, 'min_samples_split': 8, 'n_estimators': 100}\n",
      "최고 예측 정확도:0.8033\n"
     ]
    }
   ],
   "source": [
    "from sklearn.model_selection import GridSearchCV\n",
    "\n",
    "params = {\n",
    "    'n_estimators':[100],\n",
    "    'max_depth':[6,8,10,12],\n",
    "    'min_samples_leaf':[8,12,18],\n",
    "    'min_samples_split':[8,16,20]\n",
    "}\n",
    "\n",
    "# RandomForestClassifier 객체 생성 후 GridSearchCV 수행\n",
    "rf_clf = RandomForestClassifier(random_state=0,n_jobs=-1)\n",
    "grid_cv = GridSearchCV(rf_clf,param_grid=params,cv=2,n_jobs=-1)\n",
    "grid_cv.fit(X_train,y_train)\n",
    "\n",
    "print('최적 하이퍼 파라미터:\\n',grid_cv.best_params_)\n",
    "print('최고 예측 정확도:{:.4f}'.format(grid_cv.best_score_))"
   ]
  },
  {
   "cell_type": "code",
   "execution_count": 37,
   "metadata": {},
   "outputs": [
    {
     "name": "stdout",
     "output_type": "stream",
     "text": [
      "예측 정확도:0.7670\n"
     ]
    }
   ],
   "source": [
    "rf_clf1 = RandomForestClassifier(n_estimators=100, max_depth = 10, min_samples_leaf=8, min_samples_split=8,random_state=0)\n",
    "rf_clf1.fit(X_train, y_train)\n",
    "pred = rf_clf1.predict(X_test)\n",
    "print('예측 정확도:{:.4f}'.format(accuracy_score(y_test, pred)))"
   ]
  },
  {
   "cell_type": "markdown",
   "metadata": {},
   "source": [
    "#####       (d) bar plot을 사용하여 feature importance를 나타내시오."
   ]
  },
  {
   "cell_type": "code",
   "execution_count": 41,
   "metadata": {},
   "outputs": [
    {
     "data": {
      "text/plain": [
       "<function matplotlib.pyplot.show(close=None, block=None)>"
      ]
     },
     "execution_count": 41,
     "metadata": {},
     "output_type": "execute_result"
    },
    {
     "data": {
      "image/png": "[encoded data removed]",
      "text/plain": [
       "<Figure size 576x432 with 1 Axes>"
      ]
     },
     "metadata": {
      "needs_background": "light"
     },
     "output_type": "display_data"
    }
   ],
   "source": [
    "import matplotlib.pyplot as plt\n",
    "%matplotlib inline\n",
    "\n",
    "ftr_importance_values = rf_clf.feature_importances_\n",
    "ftr_importances = pd.Series(ftr_importance_values, index = X_train.columns)\n",
    "ftr_top20 = ftr_importances.sort_values(ascending = False)[0:20]\n",
    "\n",
    "plt.figure(figsize= (8,6))\n",
    "plt.title('Top 20 Feature Importances')\n",
    "sns.barplot(x=ftr_top20, y = ftr_top20.index)\n",
    "plt.show"
   ]
  },
  {
   "cell_type": "markdown",
   "metadata": {},
   "source": [
    "#####       (e) XGBoowst 래퍼를 사용하여 생존율을 예측하고 그 모델의 정확도를 나타내시오"
   ]
  },
  {
   "cell_type": "code",
   "execution_count": 44,
   "metadata": {},
   "outputs": [
    {
     "name": "stdout",
     "output_type": "stream",
     "text": [
      "Collecting xgboost\n",
      "  Downloading xgboost-1.4.2-py3-none-win_amd64.whl (97.8 MB)\n",
      "Requirement already satisfied: scipy in c:\\users\\0\\anaconda3\\lib\\site-packages (from xgboost) (1.5.2)\n",
      "Requirement already satisfied: numpy in c:\\users\\0\\anaconda3\\lib\\site-packages (from xgboost) (1.19.2)\n",
      "Installing collected packages: xgboost\n",
      "Successfully installed xgboost-1.4.2\n"
     ]
    }
   ],
   "source": [
    "!pip install xgboost"
   ]
  },
  {
   "cell_type": "code",
   "execution_count": 47,
   "metadata": {},
   "outputs": [
    {
     "name": "stdout",
     "output_type": "stream",
     "text": [
      "[0]\tvalidation_0-logloss:0.64729\n",
      "[1]\tvalidation_0-logloss:0.60959\n",
      "[2]\tvalidation_0-logloss:0.57826\n",
      "[3]\tvalidation_0-logloss:0.55201\n",
      "[4]\tvalidation_0-logloss:0.52985\n",
      "[5]\tvalidation_0-logloss:0.51094\n",
      "[6]\tvalidation_0-logloss:0.49477\n",
      "[7]\tvalidation_0-logloss:0.48086\n",
      "[8]\tvalidation_0-logloss:0.46890\n",
      "[9]\tvalidation_0-logloss:0.45865\n",
      "[10]\tvalidation_0-logloss:0.44948\n",
      "[11]\tvalidation_0-logloss:0.44173\n",
      "[12]\tvalidation_0-logloss:0.43471\n",
      "[13]\tvalidation_0-logloss:0.42706\n",
      "[14]\tvalidation_0-logloss:0.42046\n",
      "[15]\tvalidation_0-logloss:0.41543\n",
      "[16]\tvalidation_0-logloss:0.41112\n",
      "[17]\tvalidation_0-logloss:0.40736\n",
      "[18]\tvalidation_0-logloss:0.40402\n",
      "[19]\tvalidation_0-logloss:0.40035\n",
      "[20]\tvalidation_0-logloss:0.39619\n",
      "[21]\tvalidation_0-logloss:0.39364\n",
      "[22]\tvalidation_0-logloss:0.38952\n",
      "[23]\tvalidation_0-logloss:0.38558\n",
      "[24]\tvalidation_0-logloss:0.38244\n",
      "[25]\tvalidation_0-logloss:0.38039\n",
      "[26]\tvalidation_0-logloss:0.37788\n",
      "[27]\tvalidation_0-logloss:0.37390\n",
      "[28]\tvalidation_0-logloss:0.37122\n",
      "[29]\tvalidation_0-logloss:0.36866\n",
      "[30]\tvalidation_0-logloss:0.36658\n",
      "[31]\tvalidation_0-logloss:0.36345\n",
      "[32]\tvalidation_0-logloss:0.36115\n",
      "[33]\tvalidation_0-logloss:0.35892\n",
      "[34]\tvalidation_0-logloss:0.35636\n",
      "[35]\tvalidation_0-logloss:0.35367\n",
      "[36]\tvalidation_0-logloss:0.35139\n",
      "[37]\tvalidation_0-logloss:0.34915\n",
      "[38]\tvalidation_0-logloss:0.34711\n",
      "[39]\tvalidation_0-logloss:0.34525\n",
      "[40]\tvalidation_0-logloss:0.34266\n",
      "[41]\tvalidation_0-logloss:0.34080\n",
      "[42]\tvalidation_0-logloss:0.33744\n",
      "[43]\tvalidation_0-logloss:0.33631\n",
      "[44]\tvalidation_0-logloss:0.33468\n",
      "[45]\tvalidation_0-logloss:0.33290\n",
      "[46]\tvalidation_0-logloss:0.33111\n",
      "[47]\tvalidation_0-logloss:0.32965\n",
      "[48]\tvalidation_0-logloss:0.32711\n",
      "[49]\tvalidation_0-logloss:0.32570\n",
      "[50]\tvalidation_0-logloss:0.32451\n",
      "[51]\tvalidation_0-logloss:0.32238\n",
      "[52]\tvalidation_0-logloss:0.32161\n",
      "[53]\tvalidation_0-logloss:0.31973\n",
      "[54]\tvalidation_0-logloss:0.31858\n",
      "[55]\tvalidation_0-logloss:0.31671\n",
      "[56]\tvalidation_0-logloss:0.31472\n",
      "[57]\tvalidation_0-logloss:0.31299\n",
      "[58]\tvalidation_0-logloss:0.31118\n",
      "[59]\tvalidation_0-logloss:0.31009\n",
      "[60]\tvalidation_0-logloss:0.30878\n",
      "[61]\tvalidation_0-logloss:0.30723\n",
      "[62]\tvalidation_0-logloss:0.30606\n",
      "[63]\tvalidation_0-logloss:0.30443\n",
      "[64]\tvalidation_0-logloss:0.30328\n",
      "[65]\tvalidation_0-logloss:0.30205\n",
      "[66]\tvalidation_0-logloss:0.30104\n",
      "[67]\tvalidation_0-logloss:0.29972\n",
      "[68]\tvalidation_0-logloss:0.29864\n",
      "[69]\tvalidation_0-logloss:0.29792\n",
      "[70]\tvalidation_0-logloss:0.29650\n",
      "[71]\tvalidation_0-logloss:0.29551\n",
      "[72]\tvalidation_0-logloss:0.29383\n",
      "[73]\tvalidation_0-logloss:0.29319\n",
      "[74]\tvalidation_0-logloss:0.29236\n",
      "[75]\tvalidation_0-logloss:0.29102\n",
      "[76]\tvalidation_0-logloss:0.29004\n",
      "[77]\tvalidation_0-logloss:0.28923\n",
      "[78]\tvalidation_0-logloss:0.28796\n",
      "[79]\tvalidation_0-logloss:0.28716\n",
      "[80]\tvalidation_0-logloss:0.28574\n",
      "[81]\tvalidation_0-logloss:0.28431\n",
      "[82]\tvalidation_0-logloss:0.28286\n",
      "[83]\tvalidation_0-logloss:0.28151\n",
      "[84]\tvalidation_0-logloss:0.28085\n",
      "[85]\tvalidation_0-logloss:0.27995\n",
      "[86]\tvalidation_0-logloss:0.27898\n",
      "[87]\tvalidation_0-logloss:0.27838\n",
      "[88]\tvalidation_0-logloss:0.27757\n",
      "[89]\tvalidation_0-logloss:0.27573\n",
      "[90]\tvalidation_0-logloss:0.27455\n",
      "[91]\tvalidation_0-logloss:0.27345\n",
      "[92]\tvalidation_0-logloss:0.27289\n",
      "[93]\tvalidation_0-logloss:0.27135\n",
      "[94]\tvalidation_0-logloss:0.27027\n",
      "[95]\tvalidation_0-logloss:0.26956\n",
      "[96]\tvalidation_0-logloss:0.26858\n",
      "[97]\tvalidation_0-logloss:0.26799\n",
      "[98]\tvalidation_0-logloss:0.26758\n",
      "[99]\tvalidation_0-logloss:0.26652\n",
      "[100]\tvalidation_0-logloss:0.26521\n",
      "[101]\tvalidation_0-logloss:0.26411\n",
      "[102]\tvalidation_0-logloss:0.26265\n",
      "[103]\tvalidation_0-logloss:0.26201\n",
      "[104]\tvalidation_0-logloss:0.26116\n",
      "[105]\tvalidation_0-logloss:0.26077\n",
      "[106]\tvalidation_0-logloss:0.25983\n",
      "[107]\tvalidation_0-logloss:0.25924\n",
      "[108]\tvalidation_0-logloss:0.25856\n",
      "[109]\tvalidation_0-logloss:0.25832\n",
      "[110]\tvalidation_0-logloss:0.25745\n",
      "[111]\tvalidation_0-logloss:0.25715\n",
      "[112]\tvalidation_0-logloss:0.25590\n",
      "[113]\tvalidation_0-logloss:0.25518\n",
      "[114]\tvalidation_0-logloss:0.25440\n",
      "[115]\tvalidation_0-logloss:0.25311\n",
      "[116]\tvalidation_0-logloss:0.25237\n",
      "[117]\tvalidation_0-logloss:0.25141\n",
      "[118]\tvalidation_0-logloss:0.25041\n",
      "[119]\tvalidation_0-logloss:0.24993\n",
      "[120]\tvalidation_0-logloss:0.24925\n",
      "[121]\tvalidation_0-logloss:0.24885\n",
      "[122]\tvalidation_0-logloss:0.24864\n",
      "[123]\tvalidation_0-logloss:0.24834\n",
      "[124]\tvalidation_0-logloss:0.24745\n",
      "[125]\tvalidation_0-logloss:0.24711\n",
      "[126]\tvalidation_0-logloss:0.24682\n",
      "[127]\tvalidation_0-logloss:0.24630\n",
      "[128]\tvalidation_0-logloss:0.24586\n",
      "[129]\tvalidation_0-logloss:0.24499\n",
      "[130]\tvalidation_0-logloss:0.24481\n",
      "[131]\tvalidation_0-logloss:0.24442\n",
      "[132]\tvalidation_0-logloss:0.24365\n",
      "[133]\tvalidation_0-logloss:0.24296\n",
      "[134]\tvalidation_0-logloss:0.24207\n",
      "[135]\tvalidation_0-logloss:0.24182\n",
      "[136]\tvalidation_0-logloss:0.24088\n",
      "[137]\tvalidation_0-logloss:0.23998\n",
      "[138]\tvalidation_0-logloss:0.23974\n",
      "[139]\tvalidation_0-logloss:0.23916\n",
      "[140]\tvalidation_0-logloss:0.23827\n",
      "[141]\tvalidation_0-logloss:0.23790\n",
      "[142]\tvalidation_0-logloss:0.23668\n",
      "[143]\tvalidation_0-logloss:0.23595\n",
      "[144]\tvalidation_0-logloss:0.23514\n",
      "[145]\tvalidation_0-logloss:0.23466\n",
      "[146]\tvalidation_0-logloss:0.23428\n",
      "[147]\tvalidation_0-logloss:0.23357\n",
      "[148]\tvalidation_0-logloss:0.23310\n",
      "[149]\tvalidation_0-logloss:0.23278\n",
      "[150]\tvalidation_0-logloss:0.23205\n",
      "[151]\tvalidation_0-logloss:0.23141\n",
      "[152]\tvalidation_0-logloss:0.23108\n",
      "[153]\tvalidation_0-logloss:0.23054\n",
      "[154]\tvalidation_0-logloss:0.23023\n",
      "[155]\tvalidation_0-logloss:0.23006\n",
      "[156]\tvalidation_0-logloss:0.22963\n",
      "[157]\tvalidation_0-logloss:0.22918\n",
      "[158]\tvalidation_0-logloss:0.22876\n",
      "[159]\tvalidation_0-logloss:0.22860\n",
      "[160]\tvalidation_0-logloss:0.22846\n",
      "[161]\tvalidation_0-logloss:0.22819\n",
      "[162]\tvalidation_0-logloss:0.22737\n",
      "[163]\tvalidation_0-logloss:0.22680\n",
      "[164]\tvalidation_0-logloss:0.22624\n",
      "[165]\tvalidation_0-logloss:0.22611\n",
      "[166]\tvalidation_0-logloss:0.22553\n",
      "[167]\tvalidation_0-logloss:0.22529\n",
      "[168]\tvalidation_0-logloss:0.22467\n",
      "[169]\tvalidation_0-logloss:0.22393\n",
      "[170]\tvalidation_0-logloss:0.22336\n",
      "[171]\tvalidation_0-logloss:0.22288\n",
      "[172]\tvalidation_0-logloss:0.22274\n",
      "[173]\tvalidation_0-logloss:0.22253\n",
      "[174]\tvalidation_0-logloss:0.22202\n",
      "[175]\tvalidation_0-logloss:0.22190\n",
      "[176]\tvalidation_0-logloss:0.22139\n",
      "[177]\tvalidation_0-logloss:0.22073\n",
      "[178]\tvalidation_0-logloss:0.22017\n",
      "[179]\tvalidation_0-logloss:0.21985\n",
      "[180]\tvalidation_0-logloss:0.21955\n",
      "[181]\tvalidation_0-logloss:0.21942\n",
      "[182]\tvalidation_0-logloss:0.21914\n",
      "[183]\tvalidation_0-logloss:0.21861\n",
      "[184]\tvalidation_0-logloss:0.21827\n",
      "[185]\tvalidation_0-logloss:0.21755\n",
      "[186]\tvalidation_0-logloss:0.21711\n",
      "[187]\tvalidation_0-logloss:0.21697\n",
      "[188]\tvalidation_0-logloss:0.21669\n",
      "[189]\tvalidation_0-logloss:0.21656\n",
      "[190]\tvalidation_0-logloss:0.21612\n",
      "[191]\tvalidation_0-logloss:0.21578\n",
      "[192]\tvalidation_0-logloss:0.21518\n",
      "[193]\tvalidation_0-logloss:0.21491\n",
      "[194]\tvalidation_0-logloss:0.21463\n",
      "[195]\tvalidation_0-logloss:0.21453\n",
      "[196]\tvalidation_0-logloss:0.21374\n",
      "[197]\tvalidation_0-logloss:0.21347\n",
      "[198]\tvalidation_0-logloss:0.21289\n",
      "[199]\tvalidation_0-logloss:0.21261\n",
      "[200]\tvalidation_0-logloss:0.21233\n",
      "[201]\tvalidation_0-logloss:0.21190\n",
      "[202]\tvalidation_0-logloss:0.21151\n",
      "[203]\tvalidation_0-logloss:0.21137\n",
      "[204]\tvalidation_0-logloss:0.21112\n",
      "[205]\tvalidation_0-logloss:0.21091\n",
      "[206]\tvalidation_0-logloss:0.21028\n",
      "[207]\tvalidation_0-logloss:0.20991\n",
      "[208]\tvalidation_0-logloss:0.20980\n",
      "[209]\tvalidation_0-logloss:0.20960\n",
      "[210]\tvalidation_0-logloss:0.20921\n",
      "[211]\tvalidation_0-logloss:0.20902\n",
      "[212]\tvalidation_0-logloss:0.20848\n",
      "[213]\tvalidation_0-logloss:0.20816\n",
      "[214]\tvalidation_0-logloss:0.20766\n",
      "[215]\tvalidation_0-logloss:0.20756\n",
      "[216]\tvalidation_0-logloss:0.20694\n",
      "[217]\tvalidation_0-logloss:0.20685\n",
      "[218]\tvalidation_0-logloss:0.20618\n",
      "[219]\tvalidation_0-logloss:0.20560\n",
      "[220]\tvalidation_0-logloss:0.20512\n",
      "[221]\tvalidation_0-logloss:0.20484\n",
      "[222]\tvalidation_0-logloss:0.20455\n",
      "[223]\tvalidation_0-logloss:0.20413\n",
      "[224]\tvalidation_0-logloss:0.20391\n",
      "[225]\tvalidation_0-logloss:0.20381\n",
      "[226]\tvalidation_0-logloss:0.20364\n",
      "[227]\tvalidation_0-logloss:0.20327\n",
      "[228]\tvalidation_0-logloss:0.20304\n",
      "[229]\tvalidation_0-logloss:0.20270\n",
      "[230]\tvalidation_0-logloss:0.20241\n",
      "[231]\tvalidation_0-logloss:0.20178\n",
      "[232]\tvalidation_0-logloss:0.20130\n",
      "[233]\tvalidation_0-logloss:0.20114\n",
      "[234]\tvalidation_0-logloss:0.20087\n",
      "[235]\tvalidation_0-logloss:0.20071\n",
      "[236]\tvalidation_0-logloss:0.20061\n",
      "[237]\tvalidation_0-logloss:0.20016\n",
      "[238]\tvalidation_0-logloss:0.19963\n",
      "[239]\tvalidation_0-logloss:0.19937\n",
      "[240]\tvalidation_0-logloss:0.19926\n",
      "[241]\tvalidation_0-logloss:0.19887\n",
      "[242]\tvalidation_0-logloss:0.19877\n",
      "[243]\tvalidation_0-logloss:0.19862\n",
      "[244]\tvalidation_0-logloss:0.19826\n",
      "[245]\tvalidation_0-logloss:0.19816\n",
      "[246]\tvalidation_0-logloss:0.19793\n",
      "[247]\tvalidation_0-logloss:0.19737\n",
      "[248]\tvalidation_0-logloss:0.19705\n",
      "[249]\tvalidation_0-logloss:0.19695\n",
      "[250]\tvalidation_0-logloss:0.19665\n",
      "[251]\tvalidation_0-logloss:0.19613\n",
      "[252]\tvalidation_0-logloss:0.19603\n",
      "[253]\tvalidation_0-logloss:0.19557\n",
      "[254]\tvalidation_0-logloss:0.19548\n",
      "[255]\tvalidation_0-logloss:0.19495\n",
      "[256]\tvalidation_0-logloss:0.19449\n",
      "[257]\tvalidation_0-logloss:0.19421\n",
      "[258]\tvalidation_0-logloss:0.19386\n",
      "[259]\tvalidation_0-logloss:0.19360\n",
      "[260]\tvalidation_0-logloss:0.19326\n",
      "[261]\tvalidation_0-logloss:0.19316\n",
      "[262]\tvalidation_0-logloss:0.19281\n",
      "[263]\tvalidation_0-logloss:0.19258\n",
      "[264]\tvalidation_0-logloss:0.19237\n",
      "[265]\tvalidation_0-logloss:0.19195\n",
      "[266]\tvalidation_0-logloss:0.19159\n",
      "[267]\tvalidation_0-logloss:0.19128\n",
      "[268]\tvalidation_0-logloss:0.19106\n",
      "[269]\tvalidation_0-logloss:0.19097\n",
      "[270]\tvalidation_0-logloss:0.19078\n",
      "[271]\tvalidation_0-logloss:0.19029\n",
      "[272]\tvalidation_0-logloss:0.19012\n",
      "[273]\tvalidation_0-logloss:0.18961\n",
      "[274]\tvalidation_0-logloss:0.18954\n",
      "[275]\tvalidation_0-logloss:0.18926\n",
      "[276]\tvalidation_0-logloss:0.18882\n",
      "[277]\tvalidation_0-logloss:0.18874\n",
      "[278]\tvalidation_0-logloss:0.18866\n",
      "[279]\tvalidation_0-logloss:0.18859\n",
      "[280]\tvalidation_0-logloss:0.18827\n",
      "[281]\tvalidation_0-logloss:0.18819\n",
      "[282]\tvalidation_0-logloss:0.18812\n",
      "[283]\tvalidation_0-logloss:0.18780\n",
      "[284]\tvalidation_0-logloss:0.18767\n",
      "[285]\tvalidation_0-logloss:0.18759\n",
      "[286]\tvalidation_0-logloss:0.18752\n",
      "[287]\tvalidation_0-logloss:0.18741\n",
      "[288]\tvalidation_0-logloss:0.18733\n",
      "[289]\tvalidation_0-logloss:0.18716\n",
      "[290]\tvalidation_0-logloss:0.18704\n",
      "[291]\tvalidation_0-logloss:0.18648\n",
      "[292]\tvalidation_0-logloss:0.18637\n",
      "[293]\tvalidation_0-logloss:0.18622\n",
      "[294]\tvalidation_0-logloss:0.18613\n",
      "[295]\tvalidation_0-logloss:0.18603\n",
      "[296]\tvalidation_0-logloss:0.18584\n",
      "[297]\tvalidation_0-logloss:0.18562\n",
      "[298]\tvalidation_0-logloss:0.18554\n",
      "[299]\tvalidation_0-logloss:0.18536\n",
      "[300]\tvalidation_0-logloss:0.18528\n",
      "[301]\tvalidation_0-logloss:0.18522\n",
      "[302]\tvalidation_0-logloss:0.18512\n",
      "[303]\tvalidation_0-logloss:0.18497\n",
      "[304]\tvalidation_0-logloss:0.18480\n",
      "[305]\tvalidation_0-logloss:0.18473\n",
      "[306]\tvalidation_0-logloss:0.18460\n",
      "[307]\tvalidation_0-logloss:0.18454\n",
      "[308]\tvalidation_0-logloss:0.18444\n",
      "[309]\tvalidation_0-logloss:0.18438\n",
      "[310]\tvalidation_0-logloss:0.18432\n",
      "[311]\tvalidation_0-logloss:0.18382\n",
      "[312]\tvalidation_0-logloss:0.18372\n",
      "[313]\tvalidation_0-logloss:0.18329\n",
      "[314]\tvalidation_0-logloss:0.18323\n",
      "[315]\tvalidation_0-logloss:0.18299\n",
      "[316]\tvalidation_0-logloss:0.18278\n",
      "[317]\tvalidation_0-logloss:0.18266\n",
      "[318]\tvalidation_0-logloss:0.18253\n",
      "[319]\tvalidation_0-logloss:0.18229\n",
      "[320]\tvalidation_0-logloss:0.18194\n",
      "[321]\tvalidation_0-logloss:0.18172\n",
      "[322]\tvalidation_0-logloss:0.18162\n",
      "[323]\tvalidation_0-logloss:0.18142\n",
      "[324]\tvalidation_0-logloss:0.18116\n",
      "[325]\tvalidation_0-logloss:0.18100\n",
      "[326]\tvalidation_0-logloss:0.18077\n",
      "[327]\tvalidation_0-logloss:0.18067\n",
      "[328]\tvalidation_0-logloss:0.18044\n",
      "[329]\tvalidation_0-logloss:0.18031\n",
      "[330]\tvalidation_0-logloss:0.18021\n",
      "[331]\tvalidation_0-logloss:0.17989\n",
      "[332]\tvalidation_0-logloss:0.17972\n",
      "[333]\tvalidation_0-logloss:0.17936\n",
      "[334]\tvalidation_0-logloss:0.17922\n",
      "[335]\tvalidation_0-logloss:0.17884\n",
      "[336]\tvalidation_0-logloss:0.17844\n",
      "[337]\tvalidation_0-logloss:0.17827\n",
      "[338]\tvalidation_0-logloss:0.17822\n",
      "[339]\tvalidation_0-logloss:0.17816\n",
      "[340]\tvalidation_0-logloss:0.17811\n",
      "[341]\tvalidation_0-logloss:0.17797\n",
      "[342]\tvalidation_0-logloss:0.17792\n",
      "[343]\tvalidation_0-logloss:0.17780\n",
      "[344]\tvalidation_0-logloss:0.17775\n",
      "[345]\tvalidation_0-logloss:0.17769\n",
      "[346]\tvalidation_0-logloss:0.17765\n",
      "[347]\tvalidation_0-logloss:0.17751\n",
      "[348]\tvalidation_0-logloss:0.17746\n",
      "[349]\tvalidation_0-logloss:0.17741\n",
      "[350]\tvalidation_0-logloss:0.17733\n",
      "[351]\tvalidation_0-logloss:0.17721\n",
      "[352]\tvalidation_0-logloss:0.17716\n",
      "[353]\tvalidation_0-logloss:0.17698\n",
      "[354]\tvalidation_0-logloss:0.17683\n",
      "[355]\tvalidation_0-logloss:0.17678\n",
      "[356]\tvalidation_0-logloss:0.17663\n",
      "[357]\tvalidation_0-logloss:0.17658\n",
      "[358]\tvalidation_0-logloss:0.17653\n",
      "[359]\tvalidation_0-logloss:0.17648\n",
      "[360]\tvalidation_0-logloss:0.17644\n",
      "[361]\tvalidation_0-logloss:0.17617\n",
      "[362]\tvalidation_0-logloss:0.17580\n",
      "[363]\tvalidation_0-logloss:0.17571\n",
      "[364]\tvalidation_0-logloss:0.17536\n",
      "[365]\tvalidation_0-logloss:0.17515\n",
      "[366]\tvalidation_0-logloss:0.17484\n",
      "[367]\tvalidation_0-logloss:0.17455\n",
      "[368]\tvalidation_0-logloss:0.17415\n",
      "[369]\tvalidation_0-logloss:0.17392\n",
      "[370]\tvalidation_0-logloss:0.17374\n",
      "[371]\tvalidation_0-logloss:0.17348\n",
      "[372]\tvalidation_0-logloss:0.17314\n",
      "[373]\tvalidation_0-logloss:0.17300\n",
      "[374]\tvalidation_0-logloss:0.17283\n",
      "[375]\tvalidation_0-logloss:0.17244\n",
      "[376]\tvalidation_0-logloss:0.17228\n",
      "[377]\tvalidation_0-logloss:0.17184\n",
      "[378]\tvalidation_0-logloss:0.17170\n",
      "[379]\tvalidation_0-logloss:0.17162\n",
      "[380]\tvalidation_0-logloss:0.17150\n",
      "[381]\tvalidation_0-logloss:0.17135\n",
      "[382]\tvalidation_0-logloss:0.17111\n",
      "[383]\tvalidation_0-logloss:0.17104\n",
      "[384]\tvalidation_0-logloss:0.17081\n",
      "[385]\tvalidation_0-logloss:0.17070\n",
      "[386]\tvalidation_0-logloss:0.17060\n",
      "[387]\tvalidation_0-logloss:0.17043\n",
      "[388]\tvalidation_0-logloss:0.17022\n",
      "[389]\tvalidation_0-logloss:0.16987\n",
      "[390]\tvalidation_0-logloss:0.16942\n",
      "[391]\tvalidation_0-logloss:0.16905\n",
      "[392]\tvalidation_0-logloss:0.16894\n",
      "[393]\tvalidation_0-logloss:0.16889\n",
      "[394]\tvalidation_0-logloss:0.16858\n",
      "[395]\tvalidation_0-logloss:0.16843\n",
      "[396]\tvalidation_0-logloss:0.16810\n",
      "[397]\tvalidation_0-logloss:0.16784\n",
      "[398]\tvalidation_0-logloss:0.16774\n",
      "[399]\tvalidation_0-logloss:0.16770\n"
     ]
    }
   ],
   "source": [
    "from xgboost import XGBClassifier\n",
    "\n",
    "xgb_wrapper = XGBClassifier(n_estimators=400,learning_rate=0.1,max_depth=3)\n",
    "evals = [(X_train,y_train)]\n",
    "\n",
    "xgb_wrapper.fit(X_train,y_train,early_stopping_rounds=100,eval_metric=\"logloss\",eval_set=evals,verbose=True)\n",
    "prediction = xgb_wrapper.predict(X_test)\n"
   ]
  },
  {
   "cell_type": "code",
   "execution_count": 48,
   "metadata": {},
   "outputs": [
    {
     "name": "stdout",
     "output_type": "stream",
     "text": [
      "총 103명 중 80.58% 정확도로 생존을 맞춤\n"
     ]
    }
   ],
   "source": [
    "print('총 {}명 중 {:.2f}% 정확도로 생존을 맞춤'.format(y_test.shape[0], 100 * metrics.accuracy_score(prediction, y_test)))"
   ]
  }
 ],
 "metadata": {
  "kernelspec": {
   "display_name": "Python 3",
   "language": "python",
   "name": "python3"
  },
  "language_info": {
   "codemirror_mode": {
    "name": "ipython",
    "version": 3
   },
   "file_extension": ".py",
   "mimetype": "text/x-python",
   "name": "python",
   "nbconvert_exporter": "python",
   "pygments_lexer": "ipython3",
   "version": "3.8.5"
  }
 },
 "nbformat": 4,
 "nbformat_minor": 4
}

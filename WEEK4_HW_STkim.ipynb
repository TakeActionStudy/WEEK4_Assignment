{
  "nbformat": 4,
  "nbformat_minor": 0,
  "metadata": {
    "kernelspec": {
      "display_name": "Python 3",
      "language": "python",
      "name": "python3"
    },
    "language_info": {
      "codemirror_mode": {
        "name": "ipython",
        "version": 3
      },
      "file_extension": ".py",
      "mimetype": "text/x-python",
      "name": "python",
      "nbconvert_exporter": "python",
      "pygments_lexer": "ipython3",
      "version": "3.8.5"
    },
    "colab": {
      "name": "WEEK4_HW.ipynb",
      "provenance": [],
      "collapsed_sections": []
    },
    "accelerator": "GPU"
  },
  "cells": [
    {
      "cell_type": "markdown",
      "metadata": {
        "id": "FQD7Zottff_J"
      },
      "source": [
        "#### 1. 앙상블 학습의 대표적인 학습 방법 3가지와 그 방법들 사이의 차이점을 서술하시오. "
      ]
    },
    {
      "cell_type": "markdown",
      "metadata": {
        "id": "01HR6xYYfvPH"
      },
      "source": [
        "* Voting : 서로 다른 알고리즘의 분류기를 이용하여 학습을 하고 투표를 통해서 최종 예측 결과 결정\n",
        "* Bagging : 모두 같은 유형의 알고리즘의 분류기를 이용하지만, 데이터 샘플링을 서로 다르게 가져가면서(Bootstrapping) 학습을 하고 투표를 통해서 최종 예측 결과 결정\n",
        "* Boosting : 여러개의 분류기가 순차적으로 학습 수행, 앞에서 학습한 분류기의 예측이 틀린 데이터에 대해서는 weight를 가하여 학습 계속 진행"
      ]
    },
    {
      "cell_type": "markdown",
      "metadata": {
        "id": "-qvBHaioff_N"
      },
      "source": [
        "#### 2. 보팅(Voting)의 유형 두가지와 그 들의 차이점을 서술하시오."
      ]
    },
    {
      "cell_type": "markdown",
      "metadata": {
        "id": "k6EbptWNggb6"
      },
      "source": [
        "* 하트 보팅 & 소프트 보팅\n",
        "* 하드 보팅 : 예측 결과를 다수결로 투표하여 결과 선정\n",
        "* 소프트 보팅 : 각 분류기의 예측 결과의 확률을 평균하여 결과 선정"
      ]
    },
    {
      "cell_type": "markdown",
      "metadata": {
        "id": "cI9GwEC7ff_N"
      },
      "source": [
        "#### 3. 랜덤포레스트(Random Forest)의 결과 에측 과정을 간략하게 설명하시오."
      ]
    },
    {
      "cell_type": "markdown",
      "metadata": {
        "id": "ynpiSUPigtwY"
      },
      "source": [
        "전체 데이터에서 Bootstrapping을 통하여 데이터를 샘플링하고 이를 동일한 분류기들에 넣어서 소프트 보팅을 사용한다. 그 결과를 최종 클래스로 취급함."
      ]
    },
    {
      "cell_type": "markdown",
      "metadata": {
        "id": "ZNzLkmsqff_N"
      },
      "source": [
        "#### 4. GBM(Gradient Boosting Machine) 알고리즘에 대해 간단히 설명하시오."
      ]
    },
    {
      "cell_type": "markdown",
      "metadata": {
        "id": "woFsofLmldlO"
      },
      "source": [
        "* weak learner를 순차적으로 학습-예측하면서 error data에 weight를 부여하는데, 이를 Gradient Descent 방법으로 한다."
      ]
    },
    {
      "cell_type": "markdown",
      "metadata": {
        "id": "P9AyArdJff_O"
      },
      "source": [
        "#### 5. XGBoost(eXtra Gradient Boost) 알고리즘애 대해 간략하게 설명하고 GBM 대비 이 알고리즘의 장점에 대해 서술하시오."
      ]
    },
    {
      "cell_type": "markdown",
      "metadata": {
        "id": "z1pWfAzBopr7"
      },
      "source": [
        "* GBM에 추가적인 기능을 더한 알고리즘\n",
        "* GBM 보다 수행 시간이 상대적으로 빠르고 여러가지 방향에서 보완했기에 예측 성능이 뛰어나다. 추가적인 기능으로 과적합 규제, 나무가지치기, 자체 내장 교차 검증, 결손값 자체 처리등의 장점이 있다. "
      ]
    },
    {
      "cell_type": "markdown",
      "metadata": {
        "id": "Kq8eDuWOff_O"
      },
      "source": [
        "#### 6. LightGBM 알고리즘애 대해 간략하게 설명하고 XGBoost 대비 이 알고리즘의 장점에 대해 서술하시오."
      ]
    },
    {
      "cell_type": "markdown",
      "metadata": {
        "id": "WuBl7_7r0XfQ"
      },
      "source": [
        "\n",
        "* Leaf Wise 리프 중심 트리 분할 사용. \n",
        "-> 리프 중심 트리 분할 방식은 트리의 균형을 맞추지 않고, 최대한 손실값을 가지는 리프노드를 지속적으로 분할하면서 트리의 깊이가 깊어지고 배칭적인 규칙 트리 생성.\n",
        "* 장점1 더 빠른 학슴과 예측 수행 시간\n",
        "* 장점2 더 작은 메모리 사용\n",
        "* 장점3 카테고리형 피처의 자동 변환과 최적 분할"
      ]
    },
    {
      "cell_type": "markdown",
      "metadata": {
        "id": "3fGP066JqbXs"
      },
      "source": [
        ""
      ]
    },
    {
      "cell_type": "markdown",
      "metadata": {
        "id": "ekqAiJC7ff_O"
      },
      "source": [
        "#### 7. (Coding Part) titanic.csv 데이터를 기반으로 타이타닉호 승객 생존률을 예측하는 모델을 만들고자 한다."
      ]
    },
    {
      "cell_type": "code",
      "metadata": {
        "colab": {
          "base_uri": "https://localhost:8080/"
        },
        "id": "r0PG_ieO4n6p",
        "outputId": "18d16afb-8f31-4496-c993-83e05bd43e65"
      },
      "source": [
        "from google.colab import drive\n",
        "drive.mount('/content/drive/')"
      ],
      "execution_count": 2,
      "outputs": [
        {
          "output_type": "stream",
          "name": "stdout",
          "text": [
            "Mounted at /content/drive/\n"
          ]
        }
      ]
    },
    {
      "cell_type": "code",
      "metadata": {
        "colab": {
          "base_uri": "https://localhost:8080/",
          "height": 143
        },
        "id": "VJ1AvdrI3mnh",
        "outputId": "a7ce0828-f11b-4c92-fdd7-2567ab720661"
      },
      "source": [
        "import pandas as pd\n",
        "import numpy as np \n",
        "import matplotlib.pyplot as plt\n",
        "import warnings\n",
        "warnings.filterwarnings(\"ignore\")\n",
        "%matplotlib inline\n",
        "\n",
        "df = pd.read_csv('/content/drive/MyDrive/Colab_Notebooks/titanic.csv')\n",
        "df.head(3)"
      ],
      "execution_count": 3,
      "outputs": [
        {
          "output_type": "execute_result",
          "data": {
            "text/html": [
              "<div>\n",
              "<style scoped>\n",
              "    .dataframe tbody tr th:only-of-type {\n",
              "        vertical-align: middle;\n",
              "    }\n",
              "\n",
              "    .dataframe tbody tr th {\n",
              "        vertical-align: top;\n",
              "    }\n",
              "\n",
              "    .dataframe thead th {\n",
              "        text-align: right;\n",
              "    }\n",
              "</style>\n",
              "<table border=\"1\" class=\"dataframe\">\n",
              "  <thead>\n",
              "    <tr style=\"text-align: right;\">\n",
              "      <th></th>\n",
              "      <th>Unnamed: 0</th>\n",
              "      <th>Survived</th>\n",
              "      <th>Pclass</th>\n",
              "      <th>Sex</th>\n",
              "      <th>Age</th>\n",
              "      <th>SibSp</th>\n",
              "      <th>Parch</th>\n",
              "      <th>Fare</th>\n",
              "      <th>Embarked_C</th>\n",
              "      <th>Embarked_S</th>\n",
              "    </tr>\n",
              "  </thead>\n",
              "  <tbody>\n",
              "    <tr>\n",
              "      <th>0</th>\n",
              "      <td>0</td>\n",
              "      <td>0</td>\n",
              "      <td>3</td>\n",
              "      <td>0</td>\n",
              "      <td>22.0</td>\n",
              "      <td>1</td>\n",
              "      <td>0</td>\n",
              "      <td>7.2500</td>\n",
              "      <td>0</td>\n",
              "      <td>1</td>\n",
              "    </tr>\n",
              "    <tr>\n",
              "      <th>1</th>\n",
              "      <td>1</td>\n",
              "      <td>1</td>\n",
              "      <td>1</td>\n",
              "      <td>1</td>\n",
              "      <td>38.0</td>\n",
              "      <td>1</td>\n",
              "      <td>0</td>\n",
              "      <td>71.2833</td>\n",
              "      <td>1</td>\n",
              "      <td>0</td>\n",
              "    </tr>\n",
              "    <tr>\n",
              "      <th>2</th>\n",
              "      <td>2</td>\n",
              "      <td>1</td>\n",
              "      <td>3</td>\n",
              "      <td>1</td>\n",
              "      <td>26.0</td>\n",
              "      <td>0</td>\n",
              "      <td>0</td>\n",
              "      <td>7.9250</td>\n",
              "      <td>0</td>\n",
              "      <td>1</td>\n",
              "    </tr>\n",
              "  </tbody>\n",
              "</table>\n",
              "</div>"
            ],
            "text/plain": [
              "   Unnamed: 0  Survived  Pclass  Sex  ...  Parch     Fare  Embarked_C  Embarked_S\n",
              "0           0         0       3    0  ...      0   7.2500           0           1\n",
              "1           1         1       1    1  ...      0  71.2833           1           0\n",
              "2           2         1       3    1  ...      0   7.9250           0           1\n",
              "\n",
              "[3 rows x 10 columns]"
            ]
          },
          "metadata": {},
          "execution_count": 3
        }
      ]
    },
    {
      "cell_type": "code",
      "metadata": {
        "colab": {
          "base_uri": "https://localhost:8080/"
        },
        "id": "13r6Jy3i6cbU",
        "outputId": "93351eb1-4ea0-43af-9eca-de6f371dd7d7"
      },
      "source": [
        "print('\\n ### train 데이터 정보 ### \\n')\n",
        "print(df.info())"
      ],
      "execution_count": 4,
      "outputs": [
        {
          "output_type": "stream",
          "name": "stdout",
          "text": [
            "\n",
            " ### train 데이터 정보 ### \n",
            "\n",
            "<class 'pandas.core.frame.DataFrame'>\n",
            "RangeIndex: 684 entries, 0 to 683\n",
            "Data columns (total 10 columns):\n",
            " #   Column      Non-Null Count  Dtype  \n",
            "---  ------      --------------  -----  \n",
            " 0   Unnamed: 0  684 non-null    int64  \n",
            " 1   Survived    684 non-null    int64  \n",
            " 2   Pclass      684 non-null    int64  \n",
            " 3   Sex         684 non-null    int64  \n",
            " 4   Age         684 non-null    float64\n",
            " 5   SibSp       684 non-null    int64  \n",
            " 6   Parch       684 non-null    int64  \n",
            " 7   Fare        684 non-null    float64\n",
            " 8   Embarked_C  684 non-null    int64  \n",
            " 9   Embarked_S  684 non-null    int64  \n",
            "dtypes: float64(2), int64(8)\n",
            "memory usage: 53.6 KB\n",
            "None\n"
          ]
        }
      ]
    },
    {
      "cell_type": "markdown",
      "metadata": {
        "id": "h5xgdZQMff_P"
      },
      "source": [
        "#####       (a) 생존률과 다른 independent variables 간의 상관관계를 나타내시오. 생존률과 가장 correlation이 높은 두가지 variables은 무엇인가?"
      ]
    },
    {
      "cell_type": "code",
      "metadata": {
        "colab": {
          "base_uri": "https://localhost:8080/",
          "height": 702
        },
        "id": "nK7ef0kM8-Op",
        "outputId": "5fc75c24-ef4d-4c81-b31a-6a53cc23c346"
      },
      "source": [
        "import seaborn as sns\n",
        "\n",
        "plt.figure(figsize=(9, 9))\n",
        "corr = df.corr()\n",
        "\n",
        "corr_Survived = corr['Survived']\n",
        "corr_Survived_sort = corr_Survived.sort_values(ascending=False)\n",
        "print('####### high correlation to Survived #####')\n",
        "print(corr_Survived_sort[1:3].index)\n",
        "print('\\n\\n ####### correlation graph #######')\n",
        "sns.heatmap(corr, cmap='RdBu')"
      ],
      "execution_count": 6,
      "outputs": [
        {
          "output_type": "stream",
          "name": "stdout",
          "text": [
            "####### high correlation to Survived #####\n",
            "Index(['Sex', 'Fare'], dtype='object')\n",
            "\n",
            "\n",
            " ####### correlation graph #######\n"
          ]
        },
        {
          "output_type": "execute_result",
          "data": {
            "text/plain": [
              "<matplotlib.axes._subplots.AxesSubplot at 0x7f963b714150>"
            ]
          },
          "metadata": {},
          "execution_count": 6
        },
        {
          "output_type": "display_data",
          "data": {
            "image/png": "[encoded data removed]",
            "text/plain": [
              "<Figure size 648x648 with 2 Axes>"
            ]
          },
          "metadata": {
            "needs_background": "light"
          }
        }
      ]
    },
    {
      "cell_type": "markdown",
      "metadata": {
        "id": "B4-GArhoff_P"
      },
      "source": [
        "#####       (b) Random Forest 알고리즘을 통해 생존률을 예측하고 모델의 정확도를 나타내시오"
      ]
    },
    {
      "cell_type": "code",
      "metadata": {
        "colab": {
          "base_uri": "https://localhost:8080/"
        },
        "id": "xUMNXnimCqbK",
        "outputId": "bc82542e-9ff0-405b-fcdb-05809166519c"
      },
      "source": [
        "fare_mean = df['Fare'].mean()\n",
        "fare_median = df['Fare'].median()\n",
        "print(fare_mean)\n",
        "print(fare_median)"
      ],
      "execution_count": 11,
      "outputs": [
        {
          "output_type": "stream",
          "name": "stdout",
          "text": [
            "35.23456330409351\n",
            "15.875\n"
          ]
        }
      ]
    },
    {
      "cell_type": "code",
      "metadata": {
        "colab": {
          "base_uri": "https://localhost:8080/",
          "height": 407
        },
        "id": "G4GwbCfbAty-",
        "outputId": "72651f1d-ae66-4d9d-a014-187c85bba52f"
      },
      "source": [
        "# 입력 age에 따라 구분값을 반환하는 함수 설정. DataFrame의 apply lambda식에 사용. \n",
        "def get_category(fare):\n",
        "    cat = ''\n",
        "    if fare <= fare_mean: cat = 'Low fare'\n",
        "    else : cat = 'High fare'\n",
        "    return cat\n",
        "\n",
        "# 막대그래프의 크기 figure를 더 크게 설정 \n",
        "plt.figure(figsize=(10,6))\n",
        "\n",
        "# lambda 식에 위에서 생성한 get_category( ) 함수를 반환값으로 지정. \n",
        "# get_category(X)는 입력값으로 'Age' 컬럼값을 받아서 해당하는 cat 반환\n",
        "df['Fare_cat'] = df['Fare'].apply(lambda x : get_category(x))\n",
        "sns.barplot(x='Fare_cat', y = 'Survived', hue = 'Sex', data=df)"
      ],
      "execution_count": 14,
      "outputs": [
        {
          "output_type": "execute_result",
          "data": {
            "text/plain": [
              "<matplotlib.axes._subplots.AxesSubplot at 0x7f95ed5634d0>"
            ]
          },
          "metadata": {},
          "execution_count": 14
        },
        {
          "output_type": "display_data",
          "data": {
            "image/png": "[encoded data removed]",
            "text/plain": [
              "<Figure size 720x432 with 1 Axes>"
            ]
          },
          "metadata": {
            "needs_background": "light"
          }
        }
      ]
    },
    {
      "cell_type": "markdown",
      "metadata": {
        "id": "NnNB6qEpGH-Z"
      },
      "source": [
        "high correlation인 두개만 사용"
      ]
    },
    {
      "cell_type": "code",
      "metadata": {
        "colab": {
          "base_uri": "https://localhost:8080/"
        },
        "id": "eGVcZH4xCChE",
        "outputId": "cf4c662f-f540-4911-8b2a-0e705cdb9bce"
      },
      "source": [
        "from sklearn.ensemble import RandomForestClassifier\n",
        "from sklearn.metrics import accuracy_score\n",
        "import pandas as pd\n",
        "import warnings\n",
        "warnings.filterwarnings('ignore')\n",
        "from sklearn.model_selection import train_test_split\n",
        "\n",
        "df = pd.read_csv('/content/drive/MyDrive/Colab_Notebooks/titanic.csv')\n",
        "df.drop(['Pclass', 'Age', 'SibSp', 'Parch', 'Embarked_C', 'Embarked_S'],axis=1,inplace=True)\n",
        "\n",
        "y_df = df['Survived']\n",
        "X_df= df.drop('Survived',axis=1)\n",
        "\n",
        "X_train, X_test, y_train, y_test=train_test_split(X_df, y_df, test_size=0.3, random_state=2021)\n",
        "\n",
        "# 랜덤 포레스트 학습 및 별도의 테스트 셋으로 예측 성능 평가\n",
        "rf_clf = RandomForestClassifier(random_state=2021)\n",
        "rf_clf.fit(X_train , y_train)\n",
        "pred = rf_clf.predict(X_test)\n",
        "accuracy = accuracy_score(y_test , pred)\n",
        "print('랜덤 포레스트 정확도: {0:.4f}'.format(accuracy))\n"
      ],
      "execution_count": 21,
      "outputs": [
        {
          "output_type": "stream",
          "name": "stdout",
          "text": [
            "랜덤 포레스트 정확도: 0.7767\n"
          ]
        }
      ]
    },
    {
      "cell_type": "markdown",
      "metadata": {
        "id": "wKifAP5gFI-X"
      },
      "source": [
        "correlation 관계없이 그냥 시도 "
      ]
    },
    {
      "cell_type": "code",
      "metadata": {
        "colab": {
          "base_uri": "https://localhost:8080/"
        },
        "id": "4jb17erU_2ty",
        "outputId": "8f789d6a-8756-4259-ef14-dd4a5d2cb122"
      },
      "source": [
        "from sklearn.ensemble import RandomForestClassifier\n",
        "from sklearn.metrics import accuracy_score\n",
        "import pandas as pd\n",
        "import warnings\n",
        "warnings.filterwarnings('ignore')\n",
        "from sklearn.model_selection import train_test_split\n",
        "\n",
        "df = pd.read_csv('/content/drive/MyDrive/Colab_Notebooks/titanic.csv')\n",
        "y_df = df['Survived']\n",
        "X_df= df.drop('Survived',axis=1)\n",
        "\n",
        "X_train, X_test, y_train, y_test=train_test_split(X_df, y_df, test_size=0.3, random_state=2021)\n",
        "\n",
        "# 랜덤 포레스트 학습 및 별도의 테스트 셋으로 예측 성능 평가\n",
        "rf_clf = RandomForestClassifier(random_state=2021)\n",
        "rf_clf.fit(X_train , y_train)\n",
        "pred = rf_clf.predict(X_test)\n",
        "accuracy = accuracy_score(y_test , pred)\n",
        "print('랜덤 포레스트 정확도: {0:.4f}'.format(accuracy))"
      ],
      "execution_count": 22,
      "outputs": [
        {
          "output_type": "stream",
          "name": "stdout",
          "text": [
            "랜덤 포레스트 정확도: 0.7864\n"
          ]
        }
      ]
    },
    {
      "cell_type": "markdown",
      "metadata": {
        "id": "bE3G0WA1ff_Q"
      },
      "source": [
        "#####       (c) GridSearchCV를 사용하여  최적의 hyper-parameter를 가진 모델을 생성하고 그 모델의 최고 예측 정확도를 나타내시오."
      ]
    },
    {
      "cell_type": "code",
      "metadata": {
        "colab": {
          "base_uri": "https://localhost:8080/"
        },
        "id": "vKSlAHHYGcDG",
        "outputId": "5bf2d6f7-d90f-4b49-8e83-288a1f0cc68d"
      },
      "source": [
        "from sklearn.model_selection import GridSearchCV\n",
        "\n",
        "params = {\n",
        "    'n_estimators':[100],\n",
        "    'max_depth' : [6, 8, 10, 12], \n",
        "    'min_samples_leaf' : [8, 12, 18 ],\n",
        "    'min_samples_split' : [8, 16, 20]\n",
        "}\n",
        "# RandomForestClassifier 객체 생성 후 GridSearchCV 수행\n",
        "rf_clf = RandomForestClassifier(random_state=0, n_jobs=-1)\n",
        "grid_cv = GridSearchCV(rf_clf , param_grid=params , cv=2, n_jobs=-1 )\n",
        "grid_cv.fit(X_train , y_train)\n",
        "\n",
        "print('최적 하이퍼 파라미터:\\n', grid_cv.best_params_)\n",
        "print('최고 예측 정확도: {0:.4f}'.format(grid_cv.best_score_))"
      ],
      "execution_count": 23,
      "outputs": [
        {
          "output_type": "stream",
          "name": "stdout",
          "text": [
            "최적 하이퍼 파라미터:\n",
            " {'max_depth': 8, 'min_samples_leaf': 8, 'min_samples_split': 8, 'n_estimators': 100}\n",
            "최고 예측 정확도: 0.7803\n"
          ]
        }
      ]
    },
    {
      "cell_type": "code",
      "metadata": {
        "colab": {
          "base_uri": "https://localhost:8080/"
        },
        "id": "44ZwyRjWGdz8",
        "outputId": "d8a39884-a7f2-4c25-a5f7-a40de202f01b"
      },
      "source": [
        "rf_clf1 = RandomForestClassifier(n_estimators=300, max_depth=10, min_samples_leaf=8, \\\n",
        "                                 min_samples_split=8, random_state=0)\n",
        "rf_clf1.fit(X_train , y_train)\n",
        "pred = rf_clf1.predict(X_test)\n",
        "print('예측 정확도: {0:.4f}'.format(accuracy_score(y_test , pred)))"
      ],
      "execution_count": 24,
      "outputs": [
        {
          "output_type": "stream",
          "name": "stdout",
          "text": [
            "예측 정확도: 0.8058\n"
          ]
        }
      ]
    },
    {
      "cell_type": "markdown",
      "metadata": {
        "id": "lXWIKDbDff_Q"
      },
      "source": [
        "#####       (d) bar plot을 사용하여 feature importance를 나타내시오."
      ]
    },
    {
      "cell_type": "code",
      "metadata": {
        "colab": {
          "base_uri": "https://localhost:8080/",
          "height": 390
        },
        "id": "1yiw7JR9GfWK",
        "outputId": "b092d893-d522-4791-958c-1171687eaed4"
      },
      "source": [
        "import matplotlib.pyplot as plt\n",
        "import seaborn as sns\n",
        "%matplotlib inline\n",
        "\n",
        "ftr_importances_values = rf_clf1.feature_importances_\n",
        "ftr_importances = pd.Series(ftr_importances_values,index=X_train.columns  )\n",
        "ftr_top20 = ftr_importances.sort_values(ascending=False)[:20]\n",
        "\n",
        "plt.figure(figsize=(8,6))\n",
        "plt.title('Feature importances Top 20')\n",
        "sns.barplot(x=ftr_top20 , y = ftr_top20.index)\n",
        "plt.show()"
      ],
      "execution_count": 25,
      "outputs": [
        {
          "output_type": "display_data",
          "data": {
            "image/png": "[encoded data removed]",
            "text/plain": [
              "<Figure size 576x432 with 1 Axes>"
            ]
          },
          "metadata": {
            "needs_background": "light"
          }
        }
      ]
    },
    {
      "cell_type": "markdown",
      "metadata": {
        "id": "VLa18fBZff_Q"
      },
      "source": [
        "#####       (e) XGBoowst 래퍼를 사용하여 생존율을 예측하고 그 모델의 정확도를 나타내시오"
      ]
    },
    {
      "cell_type": "code",
      "metadata": {
        "colab": {
          "base_uri": "https://localhost:8080/"
        },
        "id": "1FsQd4mWHFyd",
        "outputId": "4b51f77c-7088-4356-c391-6c0a1027d6bc"
      },
      "source": [
        "import xgboost\n",
        "\n",
        "print(xgboost.__version__)"
      ],
      "execution_count": 26,
      "outputs": [
        {
          "output_type": "stream",
          "name": "stdout",
          "text": [
            "0.90\n"
          ]
        }
      ]
    },
    {
      "cell_type": "code",
      "metadata": {
        "id": "0WlUJniFHqKf"
      },
      "source": [
        "import xgboost as xgb\n",
        "from xgboost import plot_importance\n",
        "import pandas as pd\n",
        "import numpy as np\n",
        "from sklearn.model_selection import train_test_split\n",
        "import warnings\n",
        "warnings.filterwarnings('ignore')"
      ],
      "execution_count": 27,
      "outputs": []
    },
    {
      "cell_type": "markdown",
      "metadata": {
        "id": "_mLhpebtKy2T"
      },
      "source": [
        "네이브"
      ]
    },
    {
      "cell_type": "code",
      "metadata": {
        "id": "IJ0hqODxIa8U"
      },
      "source": [
        "df = pd.read_csv('/content/drive/MyDrive/Colab_Notebooks/titanic.csv')\n",
        "y_df = df['Survived']\n",
        "X_df= df.drop('Survived',axis=1)\n",
        "\n",
        "X_train, X_test, y_train, y_test=train_test_split(X_df, y_df, test_size=0.3, random_state=2021)"
      ],
      "execution_count": 28,
      "outputs": []
    },
    {
      "cell_type": "code",
      "metadata": {
        "id": "gXondr4zIeQH"
      },
      "source": [
        "dtrain = xgb.DMatrix(data=X_train , label=y_train)\n",
        "dtest = xgb.DMatrix(data=X_test , label=y_test)"
      ],
      "execution_count": 29,
      "outputs": []
    },
    {
      "cell_type": "code",
      "metadata": {
        "id": "L_V4NpNCIeuB"
      },
      "source": [
        "params = { 'max_depth':3,\n",
        "           'eta': 0.1,\n",
        "           'objective':'binary:logistic',\n",
        "           'eval_metric':'logloss'\n",
        "        }\n",
        "num_rounds = 400"
      ],
      "execution_count": 30,
      "outputs": []
    },
    {
      "cell_type": "code",
      "metadata": {
        "colab": {
          "base_uri": "https://localhost:8080/"
        },
        "id": "jrEGmbl9IgBz",
        "outputId": "35c1c5a0-e087-4940-8835-89c2407baf84"
      },
      "source": [
        "# train 데이터 셋은 ‘train’ , evaluation(test) 데이터 셋은 ‘eval’ 로 명기합니다. \n",
        "wlist = [(dtrain,'train'),(dtest,'eval') ]\n",
        "# 하이퍼 파라미터와 early stopping 파라미터를 train( ) 함수의 파라미터로 전달\n",
        "xgb_model = xgb.train(params = params , dtrain=dtrain , num_boost_round=num_rounds , \\\n",
        "                      early_stopping_rounds=100, evals=wlist )"
      ],
      "execution_count": 31,
      "outputs": [
        {
          "output_type": "stream",
          "name": "stdout",
          "text": [
            "[0]\ttrain-logloss:0.648202\teval-logloss:0.647758\n",
            "Multiple eval metrics have been passed: 'eval-logloss' will be used for early stopping.\n",
            "\n",
            "Will train until eval-logloss hasn't improved in 100 rounds.\n",
            "[1]\ttrain-logloss:0.611077\teval-logloss:0.61015\n",
            "[2]\ttrain-logloss:0.580184\teval-logloss:0.578883\n",
            "[3]\ttrain-logloss:0.554157\teval-logloss:0.55214\n",
            "[4]\ttrain-logloss:0.532059\teval-logloss:0.530077\n",
            "[5]\ttrain-logloss:0.513222\teval-logloss:0.512966\n",
            "[6]\ttrain-logloss:0.496961\teval-logloss:0.496198\n",
            "[7]\ttrain-logloss:0.483831\teval-logloss:0.482174\n",
            "[8]\ttrain-logloss:0.47157\teval-logloss:0.470034\n",
            "[9]\ttrain-logloss:0.461705\teval-logloss:0.460294\n",
            "[10]\ttrain-logloss:0.452397\teval-logloss:0.450469\n",
            "[11]\ttrain-logloss:0.444254\teval-logloss:0.442786\n",
            "[12]\ttrain-logloss:0.436688\teval-logloss:0.436918\n",
            "[13]\ttrain-logloss:0.430266\teval-logloss:0.431429\n",
            "[14]\ttrain-logloss:0.424231\teval-logloss:0.425083\n",
            "[15]\ttrain-logloss:0.41968\teval-logloss:0.421035\n",
            "[16]\ttrain-logloss:0.414788\teval-logloss:0.417789\n",
            "[17]\ttrain-logloss:0.409918\teval-logloss:0.414548\n",
            "[18]\ttrain-logloss:0.406016\teval-logloss:0.412085\n",
            "[19]\ttrain-logloss:0.402009\teval-logloss:0.409365\n",
            "[20]\ttrain-logloss:0.398662\teval-logloss:0.408579\n",
            "[21]\ttrain-logloss:0.395512\teval-logloss:0.405609\n",
            "[22]\ttrain-logloss:0.392211\teval-logloss:0.405069\n",
            "[23]\ttrain-logloss:0.38769\teval-logloss:0.404208\n",
            "[24]\ttrain-logloss:0.385445\teval-logloss:0.401834\n",
            "[25]\ttrain-logloss:0.381691\teval-logloss:0.401634\n",
            "[26]\ttrain-logloss:0.379181\teval-logloss:0.401594\n",
            "[27]\ttrain-logloss:0.377209\teval-logloss:0.40004\n",
            "[28]\ttrain-logloss:0.374032\teval-logloss:0.399296\n",
            "[29]\ttrain-logloss:0.372369\teval-logloss:0.398336\n",
            "[30]\ttrain-logloss:0.369672\teval-logloss:0.397667\n",
            "[31]\ttrain-logloss:0.36833\teval-logloss:0.396986\n",
            "[32]\ttrain-logloss:0.366022\teval-logloss:0.396648\n",
            "[33]\ttrain-logloss:0.364851\teval-logloss:0.396117\n",
            "[34]\ttrain-logloss:0.362807\teval-logloss:0.395771\n",
            "[35]\ttrain-logloss:0.361407\teval-logloss:0.394964\n",
            "[36]\ttrain-logloss:0.360169\teval-logloss:0.394597\n",
            "[37]\ttrain-logloss:0.358702\teval-logloss:0.395474\n",
            "[38]\ttrain-logloss:0.357586\teval-logloss:0.395716\n",
            "[39]\ttrain-logloss:0.356292\teval-logloss:0.396664\n",
            "[40]\ttrain-logloss:0.354355\teval-logloss:0.39603\n",
            "[41]\ttrain-logloss:0.353042\teval-logloss:0.396645\n",
            "[42]\ttrain-logloss:0.351419\teval-logloss:0.396382\n",
            "[43]\ttrain-logloss:0.349447\teval-logloss:0.39684\n",
            "[44]\ttrain-logloss:0.347947\teval-logloss:0.39603\n",
            "[45]\ttrain-logloss:0.346723\teval-logloss:0.396659\n",
            "[46]\ttrain-logloss:0.345636\teval-logloss:0.397422\n",
            "[47]\ttrain-logloss:0.344199\teval-logloss:0.397372\n",
            "[48]\ttrain-logloss:0.342324\teval-logloss:0.396807\n",
            "[49]\ttrain-logloss:0.341482\teval-logloss:0.396745\n",
            "[50]\ttrain-logloss:0.340516\teval-logloss:0.397322\n",
            "[51]\ttrain-logloss:0.339269\teval-logloss:0.397933\n",
            "[52]\ttrain-logloss:0.337794\teval-logloss:0.398024\n",
            "[53]\ttrain-logloss:0.336769\teval-logloss:0.397677\n",
            "[54]\ttrain-logloss:0.335557\teval-logloss:0.397278\n",
            "[55]\ttrain-logloss:0.334637\teval-logloss:0.397929\n",
            "[56]\ttrain-logloss:0.332952\teval-logloss:0.397044\n",
            "[57]\ttrain-logloss:0.332323\teval-logloss:0.397242\n",
            "[58]\ttrain-logloss:0.330462\teval-logloss:0.396887\n",
            "[59]\ttrain-logloss:0.329064\teval-logloss:0.396762\n",
            "[60]\ttrain-logloss:0.328462\teval-logloss:0.397382\n",
            "[61]\ttrain-logloss:0.327656\teval-logloss:0.398156\n",
            "[62]\ttrain-logloss:0.326349\teval-logloss:0.398313\n",
            "[63]\ttrain-logloss:0.325026\teval-logloss:0.398331\n",
            "[64]\ttrain-logloss:0.324522\teval-logloss:0.398621\n",
            "[65]\ttrain-logloss:0.322723\teval-logloss:0.398\n",
            "[66]\ttrain-logloss:0.321099\teval-logloss:0.399201\n",
            "[67]\ttrain-logloss:0.320152\teval-logloss:0.399166\n",
            "[68]\ttrain-logloss:0.318033\teval-logloss:0.398338\n",
            "[69]\ttrain-logloss:0.317381\teval-logloss:0.398317\n",
            "[70]\ttrain-logloss:0.316874\teval-logloss:0.398337\n",
            "[71]\ttrain-logloss:0.316253\teval-logloss:0.399084\n",
            "[72]\ttrain-logloss:0.314501\teval-logloss:0.398825\n",
            "[73]\ttrain-logloss:0.313413\teval-logloss:0.39844\n",
            "[74]\ttrain-logloss:0.311688\teval-logloss:0.397586\n",
            "[75]\ttrain-logloss:0.310426\teval-logloss:0.398135\n",
            "[76]\ttrain-logloss:0.30963\teval-logloss:0.398889\n",
            "[77]\ttrain-logloss:0.309184\teval-logloss:0.39897\n",
            "[78]\ttrain-logloss:0.308215\teval-logloss:0.399073\n",
            "[79]\ttrain-logloss:0.30625\teval-logloss:0.398323\n",
            "[80]\ttrain-logloss:0.30548\teval-logloss:0.397999\n",
            "[81]\ttrain-logloss:0.304587\teval-logloss:0.398305\n",
            "[82]\ttrain-logloss:0.302885\teval-logloss:0.397829\n",
            "[83]\ttrain-logloss:0.300712\teval-logloss:0.397063\n",
            "[84]\ttrain-logloss:0.298698\teval-logloss:0.396385\n",
            "[85]\ttrain-logloss:0.297999\teval-logloss:0.396629\n",
            "[86]\ttrain-logloss:0.296161\teval-logloss:0.395241\n",
            "[87]\ttrain-logloss:0.294281\teval-logloss:0.394455\n",
            "[88]\ttrain-logloss:0.292681\teval-logloss:0.393326\n",
            "[89]\ttrain-logloss:0.292271\teval-logloss:0.393914\n",
            "[90]\ttrain-logloss:0.290958\teval-logloss:0.39353\n",
            "[91]\ttrain-logloss:0.289966\teval-logloss:0.394103\n",
            "[92]\ttrain-logloss:0.289341\teval-logloss:0.394348\n",
            "[93]\ttrain-logloss:0.288328\teval-logloss:0.394551\n",
            "[94]\ttrain-logloss:0.287746\teval-logloss:0.395123\n",
            "[95]\ttrain-logloss:0.28641\teval-logloss:0.394843\n",
            "[96]\ttrain-logloss:0.284893\teval-logloss:0.395145\n",
            "[97]\ttrain-logloss:0.283546\teval-logloss:0.394812\n",
            "[98]\ttrain-logloss:0.281877\teval-logloss:0.394194\n",
            "[99]\ttrain-logloss:0.281219\teval-logloss:0.393712\n",
            "[100]\ttrain-logloss:0.280216\teval-logloss:0.394427\n",
            "[101]\ttrain-logloss:0.27933\teval-logloss:0.395664\n",
            "[102]\ttrain-logloss:0.278882\teval-logloss:0.395824\n",
            "[103]\ttrain-logloss:0.277435\teval-logloss:0.395696\n",
            "[104]\ttrain-logloss:0.276325\teval-logloss:0.396019\n",
            "[105]\ttrain-logloss:0.275233\teval-logloss:0.39628\n",
            "[106]\ttrain-logloss:0.274238\teval-logloss:0.396264\n",
            "[107]\ttrain-logloss:0.273886\teval-logloss:0.396418\n",
            "[108]\ttrain-logloss:0.273153\teval-logloss:0.395686\n",
            "[109]\ttrain-logloss:0.271481\teval-logloss:0.396638\n",
            "[110]\ttrain-logloss:0.27107\teval-logloss:0.396834\n",
            "[111]\ttrain-logloss:0.269789\teval-logloss:0.396978\n",
            "[112]\ttrain-logloss:0.268341\teval-logloss:0.39723\n",
            "[113]\ttrain-logloss:0.267968\teval-logloss:0.397515\n",
            "[114]\ttrain-logloss:0.26671\teval-logloss:0.397868\n",
            "[115]\ttrain-logloss:0.265812\teval-logloss:0.397422\n",
            "[116]\ttrain-logloss:0.264656\teval-logloss:0.398156\n",
            "[117]\ttrain-logloss:0.263603\teval-logloss:0.398093\n",
            "[118]\ttrain-logloss:0.262442\teval-logloss:0.398245\n",
            "[119]\ttrain-logloss:0.262075\teval-logloss:0.399008\n",
            "[120]\ttrain-logloss:0.260735\teval-logloss:0.399\n",
            "[121]\ttrain-logloss:0.260433\teval-logloss:0.399159\n",
            "[122]\ttrain-logloss:0.25919\teval-logloss:0.399592\n",
            "[123]\ttrain-logloss:0.257937\teval-logloss:0.399473\n",
            "[124]\ttrain-logloss:0.256579\teval-logloss:0.399821\n",
            "[125]\ttrain-logloss:0.256157\teval-logloss:0.400202\n",
            "[126]\ttrain-logloss:0.255196\teval-logloss:0.400631\n",
            "[127]\ttrain-logloss:0.254244\teval-logloss:0.400615\n",
            "[128]\ttrain-logloss:0.253135\teval-logloss:0.401472\n",
            "[129]\ttrain-logloss:0.252349\teval-logloss:0.400834\n",
            "[130]\ttrain-logloss:0.251479\teval-logloss:0.401959\n",
            "[131]\ttrain-logloss:0.250716\teval-logloss:0.401575\n",
            "[132]\ttrain-logloss:0.250337\teval-logloss:0.402442\n",
            "[133]\ttrain-logloss:0.249272\teval-logloss:0.402382\n",
            "[134]\ttrain-logloss:0.248363\teval-logloss:0.401622\n",
            "[135]\ttrain-logloss:0.247309\teval-logloss:0.401244\n",
            "[136]\ttrain-logloss:0.246795\teval-logloss:0.401873\n",
            "[137]\ttrain-logloss:0.246343\teval-logloss:0.401935\n",
            "[138]\ttrain-logloss:0.245378\teval-logloss:0.402632\n",
            "[139]\ttrain-logloss:0.2444\teval-logloss:0.40265\n",
            "[140]\ttrain-logloss:0.243404\teval-logloss:0.402548\n",
            "[141]\ttrain-logloss:0.242378\teval-logloss:0.40261\n",
            "[142]\ttrain-logloss:0.241506\teval-logloss:0.402973\n",
            "[143]\ttrain-logloss:0.240245\teval-logloss:0.40407\n",
            "[144]\ttrain-logloss:0.239886\teval-logloss:0.403682\n",
            "[145]\ttrain-logloss:0.238963\teval-logloss:0.404187\n",
            "[146]\ttrain-logloss:0.238412\teval-logloss:0.404359\n",
            "[147]\ttrain-logloss:0.237249\teval-logloss:0.404881\n",
            "[148]\ttrain-logloss:0.236593\teval-logloss:0.405117\n",
            "[149]\ttrain-logloss:0.235595\teval-logloss:0.405744\n",
            "[150]\ttrain-logloss:0.234585\teval-logloss:0.407028\n",
            "[151]\ttrain-logloss:0.234008\teval-logloss:0.407273\n",
            "[152]\ttrain-logloss:0.233\teval-logloss:0.407652\n",
            "[153]\ttrain-logloss:0.232236\teval-logloss:0.408599\n",
            "[154]\ttrain-logloss:0.231988\teval-logloss:0.408804\n",
            "[155]\ttrain-logloss:0.231073\teval-logloss:0.409432\n",
            "[156]\ttrain-logloss:0.23044\teval-logloss:0.409251\n",
            "[157]\ttrain-logloss:0.229545\teval-logloss:0.410544\n",
            "[158]\ttrain-logloss:0.228796\teval-logloss:0.410642\n",
            "[159]\ttrain-logloss:0.228005\teval-logloss:0.411253\n",
            "[160]\ttrain-logloss:0.227375\teval-logloss:0.411275\n",
            "[161]\ttrain-logloss:0.226666\teval-logloss:0.411607\n",
            "[162]\ttrain-logloss:0.225658\teval-logloss:0.411266\n",
            "[163]\ttrain-logloss:0.224632\teval-logloss:0.41203\n",
            "[164]\ttrain-logloss:0.224413\teval-logloss:0.412264\n",
            "[165]\ttrain-logloss:0.224082\teval-logloss:0.412434\n",
            "[166]\ttrain-logloss:0.223311\teval-logloss:0.41243\n",
            "[167]\ttrain-logloss:0.222855\teval-logloss:0.412656\n",
            "[168]\ttrain-logloss:0.222096\teval-logloss:0.412472\n",
            "[169]\ttrain-logloss:0.221482\teval-logloss:0.413605\n",
            "[170]\ttrain-logloss:0.220827\teval-logloss:0.413749\n",
            "[171]\ttrain-logloss:0.220142\teval-logloss:0.413576\n",
            "[172]\ttrain-logloss:0.219772\teval-logloss:0.413234\n",
            "[173]\ttrain-logloss:0.219094\teval-logloss:0.413125\n",
            "[174]\ttrain-logloss:0.218044\teval-logloss:0.413902\n",
            "[175]\ttrain-logloss:0.217118\teval-logloss:0.413689\n",
            "[176]\ttrain-logloss:0.216416\teval-logloss:0.414436\n",
            "[177]\ttrain-logloss:0.215808\teval-logloss:0.414404\n",
            "[178]\ttrain-logloss:0.215026\teval-logloss:0.413632\n",
            "[179]\ttrain-logloss:0.214094\teval-logloss:0.414566\n",
            "[180]\ttrain-logloss:0.213856\teval-logloss:0.414692\n",
            "[181]\ttrain-logloss:0.213223\teval-logloss:0.414985\n",
            "[182]\ttrain-logloss:0.212669\teval-logloss:0.414989\n",
            "[183]\ttrain-logloss:0.212\teval-logloss:0.41526\n",
            "[184]\ttrain-logloss:0.211141\teval-logloss:0.416281\n",
            "[185]\ttrain-logloss:0.210884\teval-logloss:0.416886\n",
            "[186]\ttrain-logloss:0.209964\teval-logloss:0.417501\n",
            "[187]\ttrain-logloss:0.209291\teval-logloss:0.418916\n",
            "[188]\ttrain-logloss:0.208922\teval-logloss:0.418846\n",
            "Stopping. Best iteration:\n",
            "[88]\ttrain-logloss:0.292681\teval-logloss:0.393326\n",
            "\n"
          ]
        }
      ]
    },
    {
      "cell_type": "code",
      "metadata": {
        "colab": {
          "base_uri": "https://localhost:8080/"
        },
        "id": "vtuRZzq8IkK4",
        "outputId": "91c2ec2a-5833-45a5-b59b-a10e5ab6695c"
      },
      "source": [
        "pred_probs = xgb_model.predict(dtest)\n",
        "print('predict( ) 수행 결과값을 10개만 표시, 예측 확률 값으로 표시됨')\n",
        "print(np.round(pred_probs[:10],3))\n",
        "\n",
        "# 예측 확률이 0.5 보다 크면 1 , 그렇지 않으면 0 으로 예측값 결정하여 List 객체인 preds에 저장 \n",
        "preds = [ 1 if x > 0.5 else 0 for x in pred_probs ]\n",
        "print('예측값 10개만 표시:',preds[:10])"
      ],
      "execution_count": 32,
      "outputs": [
        {
          "output_type": "stream",
          "name": "stdout",
          "text": [
            "predict( ) 수행 결과값을 10개만 표시, 예측 확률 값으로 표시됨\n",
            "[0.029 0.914 0.068 0.569 0.269 0.242 0.867 0.109 0.222 0.215]\n",
            "예측값 10개만 표시: [0, 1, 0, 1, 0, 0, 1, 0, 0, 0]\n"
          ]
        }
      ]
    },
    {
      "cell_type": "code",
      "metadata": {
        "id": "L_J_We9fIldW"
      },
      "source": [
        "from sklearn.metrics import confusion_matrix, accuracy_score\n",
        "from sklearn.metrics import precision_score, recall_score\n",
        "from sklearn.metrics import f1_score, roc_auc_score\n",
        "\n",
        "def get_clf_eval(y_test, pred=None, pred_proba=None):\n",
        "    confusion = confusion_matrix( y_test, pred)\n",
        "    accuracy = accuracy_score(y_test , pred)\n",
        "    precision = precision_score(y_test , pred)\n",
        "    recall = recall_score(y_test , pred)\n",
        "    f1 = f1_score(y_test,pred)\n",
        "    # ROC-AUC 추가 \n",
        "    roc_auc = roc_auc_score(y_test, pred_proba)\n",
        "    print('오차 행렬')\n",
        "    print(confusion)\n",
        "    # ROC-AUC print 추가\n",
        "    print('정확도: {0:.4f}, 정밀도: {1:.4f}, 재현율: {2:.4f},\\\n",
        "    F1: {3:.4f}, AUC:{4:.4f}'.format(accuracy, precision, recall, f1, roc_auc))"
      ],
      "execution_count": 34,
      "outputs": []
    },
    {
      "cell_type": "code",
      "metadata": {
        "colab": {
          "base_uri": "https://localhost:8080/"
        },
        "id": "ph1-IWchImxY",
        "outputId": "cf42477e-1864-468a-9cc2-94bbea204f9d"
      },
      "source": [
        "get_clf_eval(y_test , preds, pred_probs)"
      ],
      "execution_count": 35,
      "outputs": [
        {
          "output_type": "stream",
          "name": "stdout",
          "text": [
            "오차 행렬\n",
            "[[108  22]\n",
            " [ 15  61]]\n",
            "정확도: 0.8204, 정밀도: 0.7349, 재현율: 0.8026,    F1: 0.7673, AUC:0.8955\n"
          ]
        }
      ]
    },
    {
      "cell_type": "code",
      "metadata": {
        "colab": {
          "base_uri": "https://localhost:8080/",
          "height": 748
        },
        "id": "CMkxTPRpIoLn",
        "outputId": "482bd58d-958a-498b-aa28-3045411621b2"
      },
      "source": [
        "import matplotlib.pyplot as plt\n",
        "%matplotlib inline\n",
        "\n",
        "fig, ax = plt.subplots(figsize=(10, 12))\n",
        "plot_importance(xgb_model, ax=ax)"
      ],
      "execution_count": 36,
      "outputs": [
        {
          "output_type": "execute_result",
          "data": {
            "text/plain": [
              "<matplotlib.axes._subplots.AxesSubplot at 0x7f95ed26f450>"
            ]
          },
          "metadata": {},
          "execution_count": 36
        },
        {
          "output_type": "display_data",
          "data": {
            "image/png": "[encoded data removed]",
            "text/plain": [
              "<Figure size 720x864 with 1 Axes>"
            ]
          },
          "metadata": {
            "needs_background": "light"
          }
        }
      ]
    },
    {
      "cell_type": "markdown",
      "metadata": {
        "id": "GUjWGx7WK1dy"
      },
      "source": [
        "래퍼"
      ]
    },
    {
      "cell_type": "code",
      "metadata": {
        "id": "SPcu9ydAKVGW"
      },
      "source": [
        "# 사이킷런 래퍼 XGBoost 클래스인 XGBClassifier 임포트\n",
        "from xgboost import XGBClassifier\n",
        "\n",
        "xgb_wrapper = XGBClassifier(n_estimators=400, learning_rate=0.1, max_depth=3)\n",
        "xgb_wrapper.fit(X_train, y_train)\n",
        "w_preds = xgb_wrapper.predict(X_test)\n",
        "w_pred_proba = xgb_wrapper.predict_proba(X_test)[:, 1]"
      ],
      "execution_count": 37,
      "outputs": []
    },
    {
      "cell_type": "code",
      "metadata": {
        "colab": {
          "base_uri": "https://localhost:8080/"
        },
        "id": "0GRHpvYyKXYU",
        "outputId": "2b7a1910-e182-48ef-f033-02ca0c671081"
      },
      "source": [
        "get_clf_eval(y_test , w_preds, w_pred_proba)"
      ],
      "execution_count": 38,
      "outputs": [
        {
          "output_type": "stream",
          "name": "stdout",
          "text": [
            "오차 행렬\n",
            "[[107  23]\n",
            " [ 14  62]]\n",
            "정확도: 0.8204, 정밀도: 0.7294, 재현율: 0.8158,    F1: 0.7702, AUC:0.8888\n"
          ]
        }
      ]
    },
    {
      "cell_type": "code",
      "metadata": {
        "colab": {
          "base_uri": "https://localhost:8080/"
        },
        "id": "3HgllD8LKhYM",
        "outputId": "3878a7c2-7bc4-4498-e6cc-7a60210a34b2"
      },
      "source": [
        "\n",
        "from xgboost import XGBClassifier\n",
        "\n",
        "xgb_wrapper = XGBClassifier(n_estimators=400, learning_rate=0.1, max_depth=3)\n",
        "evals = [(X_test, y_test)]\n",
        "xgb_wrapper.fit(X_train, y_train, early_stopping_rounds=100, eval_metric=\"logloss\", \n",
        "                eval_set=evals, verbose=True)\n",
        "\n",
        "ws100_preds = xgb_wrapper.predict(X_test)\n",
        "ws100_pred_proba = xgb_wrapper.predict_proba(X_test)[:, 1]"
      ],
      "execution_count": 39,
      "outputs": [
        {
          "output_type": "stream",
          "name": "stdout",
          "text": [
            "[0]\tvalidation_0-logloss:0.647758\n",
            "Will train until validation_0-logloss hasn't improved in 100 rounds.\n",
            "[1]\tvalidation_0-logloss:0.61015\n",
            "[2]\tvalidation_0-logloss:0.578883\n",
            "[3]\tvalidation_0-logloss:0.55214\n",
            "[4]\tvalidation_0-logloss:0.530077\n",
            "[5]\tvalidation_0-logloss:0.512966\n",
            "[6]\tvalidation_0-logloss:0.496198\n",
            "[7]\tvalidation_0-logloss:0.482174\n",
            "[8]\tvalidation_0-logloss:0.470034\n",
            "[9]\tvalidation_0-logloss:0.460294\n",
            "[10]\tvalidation_0-logloss:0.450469\n",
            "[11]\tvalidation_0-logloss:0.442786\n",
            "[12]\tvalidation_0-logloss:0.436918\n",
            "[13]\tvalidation_0-logloss:0.431429\n",
            "[14]\tvalidation_0-logloss:0.425083\n",
            "[15]\tvalidation_0-logloss:0.421035\n",
            "[16]\tvalidation_0-logloss:0.417789\n",
            "[17]\tvalidation_0-logloss:0.414548\n",
            "[18]\tvalidation_0-logloss:0.412085\n",
            "[19]\tvalidation_0-logloss:0.409365\n",
            "[20]\tvalidation_0-logloss:0.408579\n",
            "[21]\tvalidation_0-logloss:0.405609\n",
            "[22]\tvalidation_0-logloss:0.405069\n",
            "[23]\tvalidation_0-logloss:0.404208\n",
            "[24]\tvalidation_0-logloss:0.401834\n",
            "[25]\tvalidation_0-logloss:0.401634\n",
            "[26]\tvalidation_0-logloss:0.401594\n",
            "[27]\tvalidation_0-logloss:0.40004\n",
            "[28]\tvalidation_0-logloss:0.399296\n",
            "[29]\tvalidation_0-logloss:0.398336\n",
            "[30]\tvalidation_0-logloss:0.397667\n",
            "[31]\tvalidation_0-logloss:0.396986\n",
            "[32]\tvalidation_0-logloss:0.396648\n",
            "[33]\tvalidation_0-logloss:0.396117\n",
            "[34]\tvalidation_0-logloss:0.395771\n",
            "[35]\tvalidation_0-logloss:0.394964\n",
            "[36]\tvalidation_0-logloss:0.394597\n",
            "[37]\tvalidation_0-logloss:0.395474\n",
            "[38]\tvalidation_0-logloss:0.395716\n",
            "[39]\tvalidation_0-logloss:0.396664\n",
            "[40]\tvalidation_0-logloss:0.39603\n",
            "[41]\tvalidation_0-logloss:0.396645\n",
            "[42]\tvalidation_0-logloss:0.396382\n",
            "[43]\tvalidation_0-logloss:0.39684\n",
            "[44]\tvalidation_0-logloss:0.39603\n",
            "[45]\tvalidation_0-logloss:0.396659\n",
            "[46]\tvalidation_0-logloss:0.397422\n",
            "[47]\tvalidation_0-logloss:0.397372\n",
            "[48]\tvalidation_0-logloss:0.396807\n",
            "[49]\tvalidation_0-logloss:0.396745\n",
            "[50]\tvalidation_0-logloss:0.397322\n",
            "[51]\tvalidation_0-logloss:0.397933\n",
            "[52]\tvalidation_0-logloss:0.398024\n",
            "[53]\tvalidation_0-logloss:0.397677\n",
            "[54]\tvalidation_0-logloss:0.397278\n",
            "[55]\tvalidation_0-logloss:0.397929\n",
            "[56]\tvalidation_0-logloss:0.397044\n",
            "[57]\tvalidation_0-logloss:0.397242\n",
            "[58]\tvalidation_0-logloss:0.396887\n",
            "[59]\tvalidation_0-logloss:0.396762\n",
            "[60]\tvalidation_0-logloss:0.397382\n",
            "[61]\tvalidation_0-logloss:0.398156\n",
            "[62]\tvalidation_0-logloss:0.398313\n",
            "[63]\tvalidation_0-logloss:0.398331\n",
            "[64]\tvalidation_0-logloss:0.398621\n",
            "[65]\tvalidation_0-logloss:0.398\n",
            "[66]\tvalidation_0-logloss:0.399201\n",
            "[67]\tvalidation_0-logloss:0.399166\n",
            "[68]\tvalidation_0-logloss:0.398338\n",
            "[69]\tvalidation_0-logloss:0.398317\n",
            "[70]\tvalidation_0-logloss:0.398337\n",
            "[71]\tvalidation_0-logloss:0.399084\n",
            "[72]\tvalidation_0-logloss:0.398825\n",
            "[73]\tvalidation_0-logloss:0.39844\n",
            "[74]\tvalidation_0-logloss:0.397586\n",
            "[75]\tvalidation_0-logloss:0.398135\n",
            "[76]\tvalidation_0-logloss:0.398889\n",
            "[77]\tvalidation_0-logloss:0.39897\n",
            "[78]\tvalidation_0-logloss:0.399073\n",
            "[79]\tvalidation_0-logloss:0.398323\n",
            "[80]\tvalidation_0-logloss:0.397999\n",
            "[81]\tvalidation_0-logloss:0.398305\n",
            "[82]\tvalidation_0-logloss:0.397829\n",
            "[83]\tvalidation_0-logloss:0.397063\n",
            "[84]\tvalidation_0-logloss:0.396385\n",
            "[85]\tvalidation_0-logloss:0.396629\n",
            "[86]\tvalidation_0-logloss:0.395241\n",
            "[87]\tvalidation_0-logloss:0.394455\n",
            "[88]\tvalidation_0-logloss:0.393326\n",
            "[89]\tvalidation_0-logloss:0.393914\n",
            "[90]\tvalidation_0-logloss:0.39353\n",
            "[91]\tvalidation_0-logloss:0.394103\n",
            "[92]\tvalidation_0-logloss:0.394348\n",
            "[93]\tvalidation_0-logloss:0.394551\n",
            "[94]\tvalidation_0-logloss:0.395123\n",
            "[95]\tvalidation_0-logloss:0.394843\n",
            "[96]\tvalidation_0-logloss:0.395145\n",
            "[97]\tvalidation_0-logloss:0.394812\n",
            "[98]\tvalidation_0-logloss:0.394194\n",
            "[99]\tvalidation_0-logloss:0.393712\n",
            "[100]\tvalidation_0-logloss:0.394427\n",
            "[101]\tvalidation_0-logloss:0.395664\n",
            "[102]\tvalidation_0-logloss:0.395824\n",
            "[103]\tvalidation_0-logloss:0.395696\n",
            "[104]\tvalidation_0-logloss:0.396019\n",
            "[105]\tvalidation_0-logloss:0.39628\n",
            "[106]\tvalidation_0-logloss:0.396264\n",
            "[107]\tvalidation_0-logloss:0.396418\n",
            "[108]\tvalidation_0-logloss:0.395686\n",
            "[109]\tvalidation_0-logloss:0.396638\n",
            "[110]\tvalidation_0-logloss:0.396834\n",
            "[111]\tvalidation_0-logloss:0.396978\n",
            "[112]\tvalidation_0-logloss:0.39723\n",
            "[113]\tvalidation_0-logloss:0.397515\n",
            "[114]\tvalidation_0-logloss:0.397868\n",
            "[115]\tvalidation_0-logloss:0.397422\n",
            "[116]\tvalidation_0-logloss:0.398156\n",
            "[117]\tvalidation_0-logloss:0.398093\n",
            "[118]\tvalidation_0-logloss:0.398245\n",
            "[119]\tvalidation_0-logloss:0.399008\n",
            "[120]\tvalidation_0-logloss:0.399\n",
            "[121]\tvalidation_0-logloss:0.399159\n",
            "[122]\tvalidation_0-logloss:0.399592\n",
            "[123]\tvalidation_0-logloss:0.399473\n",
            "[124]\tvalidation_0-logloss:0.399821\n",
            "[125]\tvalidation_0-logloss:0.400202\n",
            "[126]\tvalidation_0-logloss:0.400631\n",
            "[127]\tvalidation_0-logloss:0.400615\n",
            "[128]\tvalidation_0-logloss:0.401472\n",
            "[129]\tvalidation_0-logloss:0.400834\n",
            "[130]\tvalidation_0-logloss:0.401959\n",
            "[131]\tvalidation_0-logloss:0.401575\n",
            "[132]\tvalidation_0-logloss:0.402442\n",
            "[133]\tvalidation_0-logloss:0.402382\n",
            "[134]\tvalidation_0-logloss:0.401622\n",
            "[135]\tvalidation_0-logloss:0.401244\n",
            "[136]\tvalidation_0-logloss:0.401873\n",
            "[137]\tvalidation_0-logloss:0.401935\n",
            "[138]\tvalidation_0-logloss:0.402632\n",
            "[139]\tvalidation_0-logloss:0.40265\n",
            "[140]\tvalidation_0-logloss:0.402548\n",
            "[141]\tvalidation_0-logloss:0.40261\n",
            "[142]\tvalidation_0-logloss:0.402973\n",
            "[143]\tvalidation_0-logloss:0.40407\n",
            "[144]\tvalidation_0-logloss:0.403682\n",
            "[145]\tvalidation_0-logloss:0.404187\n",
            "[146]\tvalidation_0-logloss:0.404359\n",
            "[147]\tvalidation_0-logloss:0.404881\n",
            "[148]\tvalidation_0-logloss:0.405117\n",
            "[149]\tvalidation_0-logloss:0.405744\n",
            "[150]\tvalidation_0-logloss:0.407028\n",
            "[151]\tvalidation_0-logloss:0.407273\n",
            "[152]\tvalidation_0-logloss:0.407652\n",
            "[153]\tvalidation_0-logloss:0.408599\n",
            "[154]\tvalidation_0-logloss:0.408804\n",
            "[155]\tvalidation_0-logloss:0.409432\n",
            "[156]\tvalidation_0-logloss:0.409251\n",
            "[157]\tvalidation_0-logloss:0.410544\n",
            "[158]\tvalidation_0-logloss:0.410642\n",
            "[159]\tvalidation_0-logloss:0.411253\n",
            "[160]\tvalidation_0-logloss:0.411275\n",
            "[161]\tvalidation_0-logloss:0.411607\n",
            "[162]\tvalidation_0-logloss:0.411266\n",
            "[163]\tvalidation_0-logloss:0.41203\n",
            "[164]\tvalidation_0-logloss:0.412264\n",
            "[165]\tvalidation_0-logloss:0.412434\n",
            "[166]\tvalidation_0-logloss:0.41243\n",
            "[167]\tvalidation_0-logloss:0.412656\n",
            "[168]\tvalidation_0-logloss:0.412472\n",
            "[169]\tvalidation_0-logloss:0.413605\n",
            "[170]\tvalidation_0-logloss:0.413749\n",
            "[171]\tvalidation_0-logloss:0.413576\n",
            "[172]\tvalidation_0-logloss:0.413234\n",
            "[173]\tvalidation_0-logloss:0.413125\n",
            "[174]\tvalidation_0-logloss:0.413902\n",
            "[175]\tvalidation_0-logloss:0.413689\n",
            "[176]\tvalidation_0-logloss:0.414436\n",
            "[177]\tvalidation_0-logloss:0.414404\n",
            "[178]\tvalidation_0-logloss:0.413632\n",
            "[179]\tvalidation_0-logloss:0.414566\n",
            "[180]\tvalidation_0-logloss:0.414692\n",
            "[181]\tvalidation_0-logloss:0.414985\n",
            "[182]\tvalidation_0-logloss:0.414989\n",
            "[183]\tvalidation_0-logloss:0.41526\n",
            "[184]\tvalidation_0-logloss:0.416281\n",
            "[185]\tvalidation_0-logloss:0.416886\n",
            "[186]\tvalidation_0-logloss:0.417501\n",
            "[187]\tvalidation_0-logloss:0.418916\n",
            "[188]\tvalidation_0-logloss:0.418846\n",
            "Stopping. Best iteration:\n",
            "[88]\tvalidation_0-logloss:0.393326\n",
            "\n"
          ]
        }
      ]
    },
    {
      "cell_type": "code",
      "metadata": {
        "colab": {
          "base_uri": "https://localhost:8080/"
        },
        "id": "fT7u7kaXKl4R",
        "outputId": "aadd7a9a-1cc5-434c-fff9-71a46f266eeb"
      },
      "source": [
        "get_clf_eval(y_test , ws100_preds, ws100_pred_proba)"
      ],
      "execution_count": 40,
      "outputs": [
        {
          "output_type": "stream",
          "name": "stdout",
          "text": [
            "오차 행렬\n",
            "[[110  20]\n",
            " [ 16  60]]\n",
            "정확도: 0.8252, 정밀도: 0.7500, 재현율: 0.7895,    F1: 0.7692, AUC:0.9006\n"
          ]
        }
      ]
    },
    {
      "cell_type": "code",
      "metadata": {
        "colab": {
          "base_uri": "https://localhost:8080/"
        },
        "id": "Xj27EsuuKoJo",
        "outputId": "066c3700-82a8-4490-9ce1-3e806e388e99"
      },
      "source": [
        "# early_stopping_rounds를 10으로 설정하고 재 학습. \n",
        "xgb_wrapper.fit(X_train, y_train, early_stopping_rounds=10, \n",
        "                eval_metric=\"logloss\", eval_set=evals,verbose=True)\n",
        "\n",
        "ws10_preds = xgb_wrapper.predict(X_test)\n",
        "ws10_pred_proba = xgb_wrapper.predict_proba(X_test)[:, 1]\n",
        "get_clf_eval(y_test , ws10_preds, ws10_pred_proba)"
      ],
      "execution_count": 41,
      "outputs": [
        {
          "output_type": "stream",
          "name": "stdout",
          "text": [
            "[0]\tvalidation_0-logloss:0.647758\n",
            "Will train until validation_0-logloss hasn't improved in 10 rounds.\n",
            "[1]\tvalidation_0-logloss:0.61015\n",
            "[2]\tvalidation_0-logloss:0.578883\n",
            "[3]\tvalidation_0-logloss:0.55214\n",
            "[4]\tvalidation_0-logloss:0.530077\n",
            "[5]\tvalidation_0-logloss:0.512966\n",
            "[6]\tvalidation_0-logloss:0.496198\n",
            "[7]\tvalidation_0-logloss:0.482174\n",
            "[8]\tvalidation_0-logloss:0.470034\n",
            "[9]\tvalidation_0-logloss:0.460294\n",
            "[10]\tvalidation_0-logloss:0.450469\n",
            "[11]\tvalidation_0-logloss:0.442786\n",
            "[12]\tvalidation_0-logloss:0.436918\n",
            "[13]\tvalidation_0-logloss:0.431429\n",
            "[14]\tvalidation_0-logloss:0.425083\n",
            "[15]\tvalidation_0-logloss:0.421035\n",
            "[16]\tvalidation_0-logloss:0.417789\n",
            "[17]\tvalidation_0-logloss:0.414548\n",
            "[18]\tvalidation_0-logloss:0.412085\n",
            "[19]\tvalidation_0-logloss:0.409365\n",
            "[20]\tvalidation_0-logloss:0.408579\n",
            "[21]\tvalidation_0-logloss:0.405609\n",
            "[22]\tvalidation_0-logloss:0.405069\n",
            "[23]\tvalidation_0-logloss:0.404208\n",
            "[24]\tvalidation_0-logloss:0.401834\n",
            "[25]\tvalidation_0-logloss:0.401634\n",
            "[26]\tvalidation_0-logloss:0.401594\n",
            "[27]\tvalidation_0-logloss:0.40004\n",
            "[28]\tvalidation_0-logloss:0.399296\n",
            "[29]\tvalidation_0-logloss:0.398336\n",
            "[30]\tvalidation_0-logloss:0.397667\n",
            "[31]\tvalidation_0-logloss:0.396986\n",
            "[32]\tvalidation_0-logloss:0.396648\n",
            "[33]\tvalidation_0-logloss:0.396117\n",
            "[34]\tvalidation_0-logloss:0.395771\n",
            "[35]\tvalidation_0-logloss:0.394964\n",
            "[36]\tvalidation_0-logloss:0.394597\n",
            "[37]\tvalidation_0-logloss:0.395474\n",
            "[38]\tvalidation_0-logloss:0.395716\n",
            "[39]\tvalidation_0-logloss:0.396664\n",
            "[40]\tvalidation_0-logloss:0.39603\n",
            "[41]\tvalidation_0-logloss:0.396645\n",
            "[42]\tvalidation_0-logloss:0.396382\n",
            "[43]\tvalidation_0-logloss:0.39684\n",
            "[44]\tvalidation_0-logloss:0.39603\n",
            "[45]\tvalidation_0-logloss:0.396659\n",
            "[46]\tvalidation_0-logloss:0.397422\n",
            "Stopping. Best iteration:\n",
            "[36]\tvalidation_0-logloss:0.394597\n",
            "\n",
            "오차 행렬\n",
            "[[108  22]\n",
            " [ 14  62]]\n",
            "정확도: 0.8252, 정밀도: 0.7381, 재현율: 0.8158,    F1: 0.7750, AUC:0.8914\n"
          ]
        }
      ]
    },
    {
      "cell_type": "code",
      "metadata": {
        "colab": {
          "base_uri": "https://localhost:8080/",
          "height": 748
        },
        "id": "TkDgvU7DKrd1",
        "outputId": "536fc871-79d6-4dc8-8055-6284364d6b0f"
      },
      "source": [
        "\n",
        "from xgboost import plot_importance\n",
        "import matplotlib.pyplot as plt\n",
        "%matplotlib inline\n",
        "\n",
        "fig, ax = plt.subplots(figsize=(10, 12))\n",
        "# 사이킷런 래퍼 클래스를 입력해도 무방. \n",
        "plot_importance(xgb_wrapper, ax=ax)"
      ],
      "execution_count": 42,
      "outputs": [
        {
          "output_type": "execute_result",
          "data": {
            "text/plain": [
              "<matplotlib.axes._subplots.AxesSubplot at 0x7f95e0bf93d0>"
            ]
          },
          "metadata": {},
          "execution_count": 42
        },
        {
          "output_type": "display_data",
          "data": {
            "image/png": "[encoded data removed]",
            "text/plain": [
              "<Figure size 720x864 with 1 Axes>"
            ]
          },
          "metadata": {
            "needs_background": "light"
          }
        }
      ]
    }
  ]
}